{
  "nbformat": 4,
  "nbformat_minor": 0,
  "metadata": {
    "colab": {
      "name": "Exercicios.ipynb",
      "provenance": [],
      "collapsed_sections": [],
      "authorship_tag": "ABX9TyOoLbhmieecVM11RK8066fh",
      "include_colab_link": true
    },
    "kernelspec": {
      "name": "python3",
      "display_name": "Python 3"
    },
    "language_info": {
      "name": "python"
    }
  },
  "cells": [
    {
      "cell_type": "markdown",
      "metadata": {
        "id": "view-in-github",
        "colab_type": "text"
      },
      "source": [
        "<a href=\"https://colab.research.google.com/github/italosilva02/exercicioPy/blob/main/Exercicios.ipynb\" target=\"_parent\"><img src=\"https://colab.research.google.com/assets/colab-badge.svg\" alt=\"Open In Colab\"/></a>"
      ]
    },
    {
      "cell_type": "markdown",
      "metadata": {
        "id": "L6S2hC88lozq"
      },
      "source": [
        "#**1 - Faça um Programa que mostre a mensagem \"Alo mundo\" na tela.**\n"
      ]
    },
    {
      "cell_type": "code",
      "metadata": {
        "colab": {
          "base_uri": "https://localhost:8080/"
        },
        "id": "RDeg3dPhlvO0",
        "outputId": "987afe7c-37e3-4952-a1a7-023fdb6a7bab"
      },
      "source": [
        "print('Alo mundo')"
      ],
      "execution_count": null,
      "outputs": [
        {
          "output_type": "stream",
          "name": "stdout",
          "text": [
            "Alo mundo\n"
          ]
        }
      ]
    },
    {
      "cell_type": "markdown",
      "metadata": {
        "id": "T9DqT5M4ly1L"
      },
      "source": [
        "#**2 - Faça um Programa que peça um número e então mostre a mensagem O número informado foi [número].**"
      ]
    },
    {
      "cell_type": "code",
      "metadata": {
        "colab": {
          "base_uri": "https://localhost:8080/"
        },
        "id": "qp88pnAhl4MT",
        "outputId": "24c07e93-2483-49e6-8b7c-1d711d35099e"
      },
      "source": [
        "a = int(input('Informe um número: '));\n",
        "print(f'O número informado foi {a}')"
      ],
      "execution_count": null,
      "outputs": [
        {
          "output_type": "stream",
          "name": "stdout",
          "text": [
            "Informe um número: 15\n",
            "O número informado foi 15\n"
          ]
        }
      ]
    },
    {
      "cell_type": "markdown",
      "metadata": {
        "id": "y0ESd0G9mGnL"
      },
      "source": [
        "#**3 - Faça um Programa que peça dois números e imprima a soma.**"
      ]
    },
    {
      "cell_type": "code",
      "metadata": {
        "colab": {
          "base_uri": "https://localhost:8080/"
        },
        "id": "DSnaDF9OmKVr",
        "outputId": "c06e2001-ba4a-4950-e2b3-0b0c90b3e3e5"
      },
      "source": [
        "a = int(input('Informe o primeiro número: '))\n",
        "b = int(input('Informe o segundo número: '))"
      ],
      "execution_count": null,
      "outputs": [
        {
          "name": "stdout",
          "output_type": "stream",
          "text": [
            "Informe o primeiro número: 10\n",
            "Informe o segundo número: 15\n"
          ]
        }
      ]
    },
    {
      "cell_type": "code",
      "metadata": {
        "colab": {
          "base_uri": "https://localhost:8080/"
        },
        "id": "OkjfCUyEmSxT",
        "outputId": "3e6aa897-41ee-4df7-de78-bad2c24ac03f"
      },
      "source": [
        "print(f'A soma entre {a} e {b} é: {a+b}')"
      ],
      "execution_count": null,
      "outputs": [
        {
          "output_type": "stream",
          "name": "stdout",
          "text": [
            "A soma entre 10 e 15 é: 25\n"
          ]
        }
      ]
    },
    {
      "cell_type": "markdown",
      "metadata": {
        "id": "xc6cMll5mgVa"
      },
      "source": [
        "#**4 - Faça um Programa que peça as 4 notas bimestrais e mostre a média.**"
      ]
    },
    {
      "cell_type": "code",
      "metadata": {
        "id": "PvxjYy4Wml27"
      },
      "source": [
        "a1 = float(input('Informe a primeira nota: '))\n",
        "a2 = float(input('Informe a segunda nota: '))\n",
        "a3 = float(input('Informe a terceira nota: '))\n",
        "a4 = float(input('Informe a quarta nota: '))"
      ],
      "execution_count": null,
      "outputs": []
    },
    {
      "cell_type": "code",
      "metadata": {
        "id": "Y_bSKtMhmxES"
      },
      "source": [
        "media = (a1 + a2 + a3 + a4) / 4"
      ],
      "execution_count": null,
      "outputs": []
    },
    {
      "cell_type": "code",
      "metadata": {
        "colab": {
          "base_uri": "https://localhost:8080/"
        },
        "id": "9ZRPkD7mm1Ri",
        "outputId": "4f9a10c6-786c-4748-848e-255779ab4480"
      },
      "source": [
        "print(round(media, 1))"
      ],
      "execution_count": null,
      "outputs": [
        {
          "output_type": "stream",
          "name": "stdout",
          "text": [
            "4.8\n"
          ]
        }
      ]
    },
    {
      "cell_type": "markdown",
      "metadata": {
        "id": "3aXKzkkxnAKy"
      },
      "source": [
        "#**5 - Faça um Programa que converta metros para centímetros.**"
      ]
    },
    {
      "cell_type": "code",
      "metadata": {
        "colab": {
          "base_uri": "https://localhost:8080/"
        },
        "id": "v4yMctP0nE46",
        "outputId": "40c6263d-3784-4ca4-a711-4550705387ed"
      },
      "source": [
        "a = float(input('Informe o valor em metros: '))\n",
        "print(f'O valor {a} em centimetros é {a * 100} cm')"
      ],
      "execution_count": null,
      "outputs": [
        {
          "output_type": "stream",
          "name": "stdout",
          "text": [
            "Informe o valor em metros: 1.63\n",
            "O valor 1.63 em centimetros é 163.0 cm\n"
          ]
        }
      ]
    },
    {
      "cell_type": "markdown",
      "metadata": {
        "id": "wx2h0wbwnqEB"
      },
      "source": [
        ""
      ]
    },
    {
      "cell_type": "markdown",
      "metadata": {
        "id": "gHhK_IIlnsGh"
      },
      "source": [
        "#**6 - Faça um Programa que peça o raio de um círculo, calcule e mostre sua área.** "
      ]
    },
    {
      "cell_type": "code",
      "metadata": {
        "colab": {
          "base_uri": "https://localhost:8080/"
        },
        "id": "-l0nL-4enu2q",
        "outputId": "e680041d-038c-432a-99d0-2438006c7749"
      },
      "source": [
        "pi = 3.1415\n",
        "a = float(input('Informe o raio do circulo: '))"
      ],
      "execution_count": null,
      "outputs": [
        {
          "name": "stdout",
          "output_type": "stream",
          "text": [
            "Informe o raio do circulo: 5\n"
          ]
        }
      ]
    },
    {
      "cell_type": "code",
      "metadata": {
        "id": "bXYZzPvMoBGa"
      },
      "source": [
        "raio = pi * (a*a)"
      ],
      "execution_count": null,
      "outputs": []
    },
    {
      "cell_type": "code",
      "metadata": {
        "colab": {
          "base_uri": "https://localhost:8080/"
        },
        "id": "9DHZYnEpoFmJ",
        "outputId": "d580fd0c-d97b-477a-fa2d-8bd704c75754"
      },
      "source": [
        "print(f'O raio do circulo é: {round(raio, 2)}')"
      ],
      "execution_count": null,
      "outputs": [
        {
          "output_type": "stream",
          "name": "stdout",
          "text": [
            "O raio do circulo é: 78.54\n"
          ]
        }
      ]
    },
    {
      "cell_type": "markdown",
      "metadata": {
        "id": "XFhDw1mAol3J"
      },
      "source": [
        "#**7 - Faça um Programa que calcule a área de um quadrado, em seguida mostre o dobro desta área para o usuário.**"
      ]
    },
    {
      "cell_type": "code",
      "metadata": {
        "colab": {
          "base_uri": "https://localhost:8080/"
        },
        "id": "HwMVtY00orW5",
        "outputId": "45522f4c-9b62-4765-a48d-29c5db672f4d"
      },
      "source": [
        "a = float(input('Informe a altura: '))\n",
        "b = float(input('Informe a base: '))"
      ],
      "execution_count": null,
      "outputs": [
        {
          "name": "stdout",
          "output_type": "stream",
          "text": [
            "Informe a altura: 12.5\n",
            "Informe a base: 6.9\n"
          ]
        }
      ]
    },
    {
      "cell_type": "code",
      "metadata": {
        "id": "FAGHw0y1o7jZ"
      },
      "source": [
        "quadrado = a*b"
      ],
      "execution_count": null,
      "outputs": []
    },
    {
      "cell_type": "code",
      "metadata": {
        "id": "pLHUgxnupL5B"
      },
      "source": [
        "quadrado = quadrado * 2"
      ],
      "execution_count": null,
      "outputs": []
    },
    {
      "cell_type": "code",
      "metadata": {
        "colab": {
          "base_uri": "https://localhost:8080/"
        },
        "id": "iYdHZ4Sjo-mo",
        "outputId": "3598f922-6431-44cb-dd96-e43604c18fe9"
      },
      "source": [
        "print(f'O dobro da área desse quadrado é: {round(quadrado, 2)}' )"
      ],
      "execution_count": null,
      "outputs": [
        {
          "output_type": "stream",
          "name": "stdout",
          "text": [
            "O dobro da área desse quadrado é: 86.25\n"
          ]
        }
      ]
    },
    {
      "cell_type": "markdown",
      "metadata": {
        "id": "RBlvG41dpu9B"
      },
      "source": [
        "#**8 - Faça um Programa que pergunte quanto você ganha por hora e o número de horas trabalhadas no mês. Calcule e mostre o total do seu salário no referido mês.**"
      ]
    },
    {
      "cell_type": "code",
      "metadata": {
        "id": "69-9avCepy45",
        "colab": {
          "base_uri": "https://localhost:8080/"
        },
        "outputId": "a0c74c50-0994-4730-e023-5e93f3eaaf11"
      },
      "source": [
        "a = float(input('Quanto você recebe por hora: R$ '))\n",
        "a1 = float(input('Quantas horas você trabalha por mês: '))"
      ],
      "execution_count": 53,
      "outputs": [
        {
          "name": "stdout",
          "output_type": "stream",
          "text": [
            "Quanto você recebe por hora: R$ 13\n",
            "Quantas horas você trabalha por mês: 160\n"
          ]
        }
      ]
    },
    {
      "cell_type": "code",
      "metadata": {
        "id": "aXfkUMxYqqKg"
      },
      "source": [
        "salario = (a*a1)"
      ],
      "execution_count": 54,
      "outputs": []
    },
    {
      "cell_type": "code",
      "metadata": {
        "id": "PQGQr1qHqtDT",
        "colab": {
          "base_uri": "https://localhost:8080/"
        },
        "outputId": "542e20b8-7c22-4505-a315-4fe8e817c43b"
      },
      "source": [
        "print(f'Seu salário é de R$ {round(salario, 2)} por mês')"
      ],
      "execution_count": 55,
      "outputs": [
        {
          "output_type": "stream",
          "name": "stdout",
          "text": [
            "Seu salário é de R$ 2080.0 por mês\n"
          ]
        }
      ]
    },
    {
      "cell_type": "markdown",
      "metadata": {
        "id": "uT5VqifXrTTQ"
      },
      "source": [
        "#**9 - Faça um Programa que peça a temperatura em graus Fahrenheit, transforme e mostre a temperatura em graus Celsius.**\n",
        "**C = 5 * ((F-32) / 9)**"
      ]
    },
    {
      "cell_type": "code",
      "metadata": {
        "colab": {
          "base_uri": "https://localhost:8080/"
        },
        "id": "-QBfDLmhriSd",
        "outputId": "24d944ca-0665-4100-ce8f-ae3c07b78a2f"
      },
      "source": [
        "f = float(input('Informe a temperatura em Fahrentheit: '))"
      ],
      "execution_count": 56,
      "outputs": [
        {
          "name": "stdout",
          "output_type": "stream",
          "text": [
            "Informe a temperatura em Fahrentheit: 69\n"
          ]
        }
      ]
    },
    {
      "cell_type": "code",
      "metadata": {
        "id": "NEgxjE0Brt0Q"
      },
      "source": [
        "c = 5 * ((f-32) / 9)"
      ],
      "execution_count": 57,
      "outputs": []
    },
    {
      "cell_type": "code",
      "metadata": {
        "colab": {
          "base_uri": "https://localhost:8080/"
        },
        "id": "PFqX-3z5r0kv",
        "outputId": "4dade532-bc54-4879-97ab-b891279809b8"
      },
      "source": [
        "print(f'A temperatura em graus Celsius é de {round(c, 2)}')"
      ],
      "execution_count": 58,
      "outputs": [
        {
          "output_type": "stream",
          "name": "stdout",
          "text": [
            "A temperatura em graus Celsius é de 20.56\n"
          ]
        }
      ]
    },
    {
      "cell_type": "markdown",
      "metadata": {
        "id": "a2K1buf-sLC_"
      },
      "source": [
        "#**10 - Faça um Programa que peça a temperatura em graus Celsius, transforme e mostre em graus Fahrenheit.**"
      ]
    },
    {
      "cell_type": "code",
      "metadata": {
        "colab": {
          "base_uri": "https://localhost:8080/"
        },
        "id": "cvLj5p4ascmu",
        "outputId": "fc376887-4437-427a-c5f7-c6d116ca6d60"
      },
      "source": [
        "c = float(input())"
      ],
      "execution_count": 11,
      "outputs": [
        {
          "name": "stdout",
          "output_type": "stream",
          "text": [
            "9\n"
          ]
        }
      ]
    },
    {
      "cell_type": "code",
      "metadata": {
        "id": "HFnquVs9sNPo"
      },
      "source": [
        "f = (c* 1.8) + 32"
      ],
      "execution_count": 12,
      "outputs": []
    },
    {
      "cell_type": "code",
      "metadata": {
        "colab": {
          "base_uri": "https://localhost:8080/"
        },
        "id": "m5MNYp5AsfYZ",
        "outputId": "5710de53-769c-4ea4-a1dc-605488fdd7d0"
      },
      "source": [
        "print(f)"
      ],
      "execution_count": 13,
      "outputs": [
        {
          "output_type": "stream",
          "name": "stdout",
          "text": [
            "48.2\n"
          ]
        }
      ]
    },
    {
      "cell_type": "markdown",
      "metadata": {
        "id": "QLOAsVQBtXuG"
      },
      "source": [
        "#**11 - Faça um Programa que peça 2 números inteiros e um número real. Calcule e mostre:**\n",
        "- o produto do dobro do primeiro com metade do segundo .\n",
        "- a soma do triplo do primeiro com o terceiro.\n",
        "- o terceiro elevado ao cubo."
      ]
    },
    {
      "cell_type": "code",
      "metadata": {
        "colab": {
          "base_uri": "https://localhost:8080/"
        },
        "id": "J03RKbYltgve",
        "outputId": "5b961c9a-e281-41f4-b82b-5a694fd0f7a4"
      },
      "source": [
        "a = int(input('Informe um número inteiro: '))\n",
        "a1 = int(input('Informe outro número inteiro: '))\n",
        "a2 = float(input('Agora informe um número real (Número com virgula): '))"
      ],
      "execution_count": 17,
      "outputs": [
        {
          "name": "stdout",
          "output_type": "stream",
          "text": [
            "Informe um número inteiro: 5\n",
            "Informe outro número inteiro: 2\n",
            "Agora informe um número real (Número com virgula): 9.80\n"
          ]
        }
      ]
    },
    {
      "cell_type": "code",
      "metadata": {
        "id": "dVSTbkaMuCD3"
      },
      "source": [
        "produto = (a*2) * (a1/2)"
      ],
      "execution_count": 18,
      "outputs": []
    },
    {
      "cell_type": "code",
      "metadata": {
        "id": "3veyIT2wu3kV"
      },
      "source": [
        "soma_tripolo = (a*3) + a2"
      ],
      "execution_count": 20,
      "outputs": []
    },
    {
      "cell_type": "code",
      "metadata": {
        "id": "KICGTfVrvP8V"
      },
      "source": [
        "cubo = (a2 * a2 * a2)"
      ],
      "execution_count": 22,
      "outputs": []
    },
    {
      "cell_type": "code",
      "metadata": {
        "colab": {
          "base_uri": "https://localhost:8080/"
        },
        "id": "Jshk5rY5vo2E",
        "outputId": "98ddfd5d-bc1e-44e3-97cc-d31d4a655829"
      },
      "source": [
        "print(f'o produto do dobro do primeiro com metade do segundo = {round(produto, 2)}')\n",
        "print(f'a soma do triplo do primeiro com o terceiro = {round(soma_tripolo, 2)}')\n",
        "print(f'o terceiro elevado ao cubo = {round(cubo, 2)}')"
      ],
      "execution_count": 24,
      "outputs": [
        {
          "output_type": "stream",
          "name": "stdout",
          "text": [
            "o produto do dobro do primeiro com metade do segundo = 10.0\n",
            "a soma do triplo do primeiro com o terceiro = 24.8\n",
            "o terceiro elevado ao cubo = 941.19\n"
          ]
        }
      ]
    },
    {
      "cell_type": "markdown",
      "metadata": {
        "id": "3qvjeF2bzzLp"
      },
      "source": [
        "#**12 - Tendo como dados de entrada a altura de uma pessoa, construa um algoritmo que calcule seu peso ideal, usando a seguinte fórmula: (72.7*altura) - 58**"
      ]
    },
    {
      "cell_type": "code",
      "metadata": {
        "colab": {
          "base_uri": "https://localhost:8080/"
        },
        "id": "2vF1GO1jz6eJ",
        "outputId": "0542901f-8d4e-4a27-b11f-f794f36fce5d"
      },
      "source": [
        "p = float(input('Informe sua altura em metros: '))"
      ],
      "execution_count": 25,
      "outputs": [
        {
          "name": "stdout",
          "output_type": "stream",
          "text": [
            "Informe sua altura em metros: 1.63\n"
          ]
        }
      ]
    },
    {
      "cell_type": "code",
      "metadata": {
        "id": "YIoWmhox0Geg"
      },
      "source": [
        "peso_ideal = (72.7 * p) - 58"
      ],
      "execution_count": 26,
      "outputs": []
    },
    {
      "cell_type": "code",
      "metadata": {
        "colab": {
          "base_uri": "https://localhost:8080/"
        },
        "id": "uZ9aNG340Mu5",
        "outputId": "bf7b00ba-201f-4945-b502-b85b402cb3f6"
      },
      "source": [
        "print(f'seu peso ideial é {round(peso_ideal, 2)} kg')"
      ],
      "execution_count": 27,
      "outputs": [
        {
          "output_type": "stream",
          "name": "stdout",
          "text": [
            "seu peso ideial é 60.5 kg\n"
          ]
        }
      ]
    },
    {
      "cell_type": "markdown",
      "metadata": {
        "id": "1834P3Ne0mIo"
      },
      "source": [
        "#**13 - Tendo como dado de entrada a altura (h) de uma pessoa, construa um algoritmo que calcule seu peso ideal, utilizando as seguintes fórmulas:**\n",
        "- Para homens: (72.7*h) - 58\n",
        "- Para mulheres: (62.1*h) - 44.7"
      ]
    },
    {
      "cell_type": "code",
      "metadata": {
        "colab": {
          "base_uri": "https://localhost:8080/"
        },
        "id": "ckZXJjKk0zCQ",
        "outputId": "cdf312e3-129f-4426-ff6b-3136b7090c6d"
      },
      "source": [
        "h = float(input('Informe a sua altura em metros: '))"
      ],
      "execution_count": 9,
      "outputs": [
        {
          "name": "stdout",
          "output_type": "stream",
          "text": [
            "Informe a sua altura em metros: 1.83\n"
          ]
        }
      ]
    },
    {
      "cell_type": "code",
      "metadata": {
        "colab": {
          "base_uri": "https://localhost:8080/"
        },
        "id": "vZ_fMELz07tJ",
        "outputId": "e73ec1ce-160d-42cd-89a1-9dca10044c66"
      },
      "source": [
        "resp = input('Informe o seu sexo (homem/mulher)\\n')"
      ],
      "execution_count": 10,
      "outputs": [
        {
          "name": "stdout",
          "output_type": "stream",
          "text": [
            "Informe o seu sexo (homem/mulher)\n",
            "mulher\n"
          ]
        }
      ]
    },
    {
      "cell_type": "code",
      "metadata": {
        "colab": {
          "base_uri": "https://localhost:8080/"
        },
        "id": "lXeUPHyz1KaK",
        "outputId": "0605f65e-446c-45fb-c87f-337716b7aaba"
      },
      "source": [
        "if resp == 'homem':\n",
        "  print(f'Seu peso ideial é {round((72.7*h)-58, 2)} kg')\n",
        "elif resp == 'mulher':\n",
        "  print(f'Seu peso ideial é {round((62.1*h)-44.7, 2)} kg')\n",
        "else: \n",
        "  print('Informações faltante')\n"
      ],
      "execution_count": 11,
      "outputs": [
        {
          "output_type": "stream",
          "name": "stdout",
          "text": [
            "Seu peso ideial é 68.94 kg\n"
          ]
        }
      ]
    },
    {
      "cell_type": "markdown",
      "metadata": {
        "id": "bw7TDeeX2csW"
      },
      "source": [
        "#**14 - João Papo-de-Pescador, homem de bem, comprou um microcomputador para controlar o rendimento diário de seu trabalho. Toda vez que ele traz um peso de peixes maior que o estabelecido pelo regulamento de pesca do estado de São Paulo (50 quilos) deve pagar uma multa de R$ 4,00 por quilo excedente. João precisa que você faça um programa que leia a variável peso (peso de peixes) e calcule o excesso. Gravar na variável excesso a quantidade de quilos além do limite e na variável multa o valor da multa que João deverá pagar. Imprima os dados do programa com as mensagens adequadas.**"
      ]
    },
    {
      "cell_type": "code",
      "metadata": {
        "id": "smx8pcMi6FVi"
      },
      "source": [
        "import time as tm"
      ],
      "execution_count": 4,
      "outputs": []
    },
    {
      "cell_type": "code",
      "metadata": {
        "colab": {
          "base_uri": "https://localhost:8080/"
        },
        "id": "uUdegQwF2iTP",
        "outputId": "18cf9444-7637-438b-de78-a09c331b0223"
      },
      "source": [
        "nome = input('Informe o seu nome \\n')"
      ],
      "execution_count": 11,
      "outputs": [
        {
          "name": "stdout",
          "output_type": "stream",
          "text": [
            "Informe o seu nome \n",
            "italo\n"
          ]
        }
      ]
    },
    {
      "cell_type": "code",
      "metadata": {
        "colab": {
          "base_uri": "https://localhost:8080/"
        },
        "id": "TJgMDn1G4wts",
        "outputId": "70aecfc3-7de7-4bc5-98be-e389bb072bcb"
      },
      "source": [
        "peso = float(input('Informe o peso do peixe em KG: '))"
      ],
      "execution_count": 16,
      "outputs": [
        {
          "name": "stdout",
          "output_type": "stream",
          "text": [
            "Informe o peso do peixe em KG: 49\n"
          ]
        }
      ]
    },
    {
      "cell_type": "code",
      "metadata": {
        "colab": {
          "base_uri": "https://localhost:8080/"
        },
        "id": "6ogk5V-R5Hcj",
        "outputId": "65894b0f-06c1-464d-ab9c-32d98b667a9d"
      },
      "source": [
        "if peso > 50: \n",
        "  multa = (peso-50) * 4.00\n",
        "  print(f'{nome.capitalize()}, o peixe ultrapassa o limite de 50 kg, portanto, o valor da multa é de R$: {multa}')\n",
        "else: \n",
        "  print(nome.capitalize() + ', não será preciso pagar multa')"
      ],
      "execution_count": 17,
      "outputs": [
        {
          "output_type": "stream",
          "name": "stdout",
          "text": [
            "Italo, não será preciso pagar multa\n"
          ]
        }
      ]
    },
    {
      "cell_type": "markdown",
      "metadata": {
        "id": "mAVy4rTT66GC"
      },
      "source": [
        "#**15 - Faça um Programa que pergunte quanto você ganha por hora e o número de horas trabalhadas no mês. Calcule e mostre o total do seu salário no referido mês, sabendo-se que são descontados 11% para o Imposto de Renda, 8% para o INSS e 5% para o sindicato, faça um programa que nos dê:**\n",
        "- salário bruto\n",
        "- quanto pagou ao INSS.\n",
        "- quanto pagou ao sindicato.\n",
        "- o salário líquido\n",
        "\n",
        " **calcule os descontos e o salário líquido, conforme a tabela abaixo:**\n",
        "\n",
        "- Salário Bruto : R$\n",
        "- IR (11%) : R$\n",
        "- INSS (8%) : R$\n",
        "- Sindicato ( 5%) : R$\n",
        "= Salário Liquido : R$\n",
        "**Obs.: Salário Bruto - Descontos = Salário Líquido.**"
      ]
    },
    {
      "cell_type": "code",
      "metadata": {
        "colab": {
          "base_uri": "https://localhost:8080/"
        },
        "id": "5retBE6L7Zcg",
        "outputId": "fd9f1f9f-9726-4f0f-bb3d-c3f125cf0e10"
      },
      "source": [
        "salario_hora = float(input('Qual é o salário por hora? R$ '))\n",
        "hora_trabalhada = float(input('Quantas horas trabalhas no mês: '))"
      ],
      "execution_count": 18,
      "outputs": [
        {
          "name": "stdout",
          "output_type": "stream",
          "text": [
            "Qual é o salário por hora? R$ 13\n",
            "Quantas horas trabalhas no mês: 160\n"
          ]
        }
      ]
    },
    {
      "cell_type": "code",
      "metadata": {
        "id": "LIMHRY3J9LxY"
      },
      "source": [
        "salario_bruto = salario_hora * hora_trabalhada"
      ],
      "execution_count": 21,
      "outputs": []
    },
    {
      "cell_type": "code",
      "metadata": {
        "id": "90FTnog99f9P"
      },
      "source": [
        "ir = salario_bruto * 0.11"
      ],
      "execution_count": 22,
      "outputs": []
    },
    {
      "cell_type": "code",
      "metadata": {
        "id": "ZlJNlTIE-X0E"
      },
      "source": [
        "inss = salario_bruto * 0.08"
      ],
      "execution_count": 23,
      "outputs": []
    },
    {
      "cell_type": "code",
      "metadata": {
        "id": "1DhFPtiW-qtu"
      },
      "source": [
        "sindicato = salario_bruto * 0.05"
      ],
      "execution_count": 24,
      "outputs": []
    },
    {
      "cell_type": "code",
      "metadata": {
        "id": "WcDslnT0-yz8"
      },
      "source": [
        "desconto = ir + inss + sindicato"
      ],
      "execution_count": 25,
      "outputs": []
    },
    {
      "cell_type": "code",
      "metadata": {
        "id": "z_IHPxv4-4G9"
      },
      "source": [
        "salario_liquido = salario_bruto - desconto"
      ],
      "execution_count": 26,
      "outputs": []
    },
    {
      "cell_type": "code",
      "metadata": {
        "colab": {
          "base_uri": "https://localhost:8080/"
        },
        "id": "OAmLWYgP-8b0",
        "outputId": "d2be8dd2-8567-4766-a322-330e5425ac72"
      },
      "source": [
        "print(f'Salário Bruto: R$ {salario_bruto}')\n",
        "print(f'Imposto de Renda: R$ {ir}')\n",
        "print(f'INSS: R$ {inss}')\n",
        "print(f'Sindicato: R$ {sindicato}')\n",
        "print(f'Total desconto: R$ {round(desconto,2)}')\n",
        "print(f'Salário liquido: R$ {salario_liquido}')"
      ],
      "execution_count": 29,
      "outputs": [
        {
          "output_type": "stream",
          "name": "stdout",
          "text": [
            "Salário Bruto: R$ 2080.0\n",
            "Imposto de Renda: R$ 228.8\n",
            "INSS: R$ 166.4\n",
            "Sindicato: R$ 104.0\n",
            "Total desconto: R$ 499.2\n",
            "Salário liquido: R$ 1580.8\n"
          ]
        }
      ]
    },
    {
      "cell_type": "markdown",
      "metadata": {
        "id": "TnImLsZuAIvz"
      },
      "source": [
        "#**16 - Faça um programa para uma loja de tintas. O programa deverá pedir o tamanho em metros quadrados da área a ser pintada. Considere que a cobertura da tinta é de 1 litro para cada 3 metros quadrados e que a tinta é vendida em latas de 18 litros, que custam R$ 80,00. Informe ao usuário a quantidades de latas de tinta a serem compradas e o preço total.**"
      ]
    },
    {
      "cell_type": "code",
      "metadata": {
        "colab": {
          "base_uri": "https://localhost:8080/"
        },
        "id": "Q2YwujPyANbs",
        "outputId": "817be97a-d906-48bc-8b11-e2aba46db3f6"
      },
      "source": [
        "metros = float(input('Informe o tamanho em metros quadrados: '))"
      ],
      "execution_count": 35,
      "outputs": [
        {
          "name": "stdout",
          "output_type": "stream",
          "text": [
            "Informe o tamanho em metros quadrados: 300\n"
          ]
        }
      ]
    },
    {
      "cell_type": "code",
      "metadata": {
        "id": "SnJPQNGfCefS"
      },
      "source": [
        "quantidade = (metros / 3)\n"
      ],
      "execution_count": 36,
      "outputs": []
    },
    {
      "cell_type": "code",
      "metadata": {
        "colab": {
          "base_uri": "https://localhost:8080/"
        },
        "id": "t28JbAG0DCjJ",
        "outputId": "1adffdc7-f9e9-4a4d-fe19-b46d93e22749"
      },
      "source": [
        "if quantidade < 18:\n",
        "  print(f'Você gastará {quantidade} litros, portanto apenas 1 lata será suficiente.\\nvalor a ser pago R$ {80.00}')\n",
        "elif quantidade > 18:\n",
        "  lata = quantidade / 18\n",
        "  lata = round(lata)\n",
        "  print(f'Quantidade de latas necessária: {lata} latas\\nValor: R$ {lata * 80.00}')\n",
        "\n"
      ],
      "execution_count": 39,
      "outputs": [
        {
          "output_type": "stream",
          "name": "stdout",
          "text": [
            "Quantidade de latas necessária: 6 latas\n",
            "Valor: 480.0\n"
          ]
        }
      ]
    },
    {
      "cell_type": "markdown",
      "metadata": {
        "id": "6RWTy72DGSMb"
      },
      "source": [
        "#**17 - Faça um Programa para uma loja de tintas. O programa deverá pedir o tamanho em metros quadrados da área a ser pintada. Considere que a cobertura da tinta é de 1 litro para cada 6 metros quadrados e que a tinta é vendida em latas de 18 litros, que custam R$$ 80,00 ou em galões de 3,6 litros, que custam R$ 25,00.**\n",
        "Informe ao usuário as quantidades de tinta a serem compradas e os respectivos preços em 3 situações:\n",
        "- comprar apenas latas de 18 litros;\n",
        "- comprar apenas galões de 3,6 litros;\n",
        "- misturar latas e galões, de forma que o desperdício de tinta seja menor. Acrescente 10% de folga e sempre arredonde os valores para cima, isto é, considere latas cheias."
      ]
    },
    {
      "cell_type": "code",
      "metadata": {
        "id": "7iRza5lKJKSx"
      },
      "source": [
        "import math"
      ],
      "execution_count": 47,
      "outputs": []
    },
    {
      "cell_type": "code",
      "metadata": {
        "colab": {
          "base_uri": "https://localhost:8080/"
        },
        "id": "-o1EX6nKGpLq",
        "outputId": "6ba79020-f922-4974-f365-23bf7600fcc0"
      },
      "source": [
        "metros = float(input('Informe a quantidade de metros quadrados a ser pintada: '))"
      ],
      "execution_count": 40,
      "outputs": [
        {
          "name": "stdout",
          "output_type": "stream",
          "text": [
            "Informe a quantidade de metros quadrados a ser pintada: 360\n"
          ]
        }
      ]
    },
    {
      "cell_type": "code",
      "metadata": {
        "id": "xtx_WrTcHA0S"
      },
      "source": [
        "quantidade = metros / 6"
      ],
      "execution_count": 41,
      "outputs": []
    },
    {
      "cell_type": "code",
      "metadata": {
        "id": "6BI0RP6yINpu"
      },
      "source": [
        "lata = quantidade / 18\n",
        "lata = math.ceil(lata)"
      ],
      "execution_count": 48,
      "outputs": []
    },
    {
      "cell_type": "code",
      "metadata": {
        "id": "EKlkOJb5Ire4"
      },
      "source": [
        "galao = quantidade / 3.6\n",
        "galao = math.ceil(galao)"
      ],
      "execution_count": 50,
      "outputs": []
    },
    {
      "cell_type": "code",
      "metadata": {
        "colab": {
          "base_uri": "https://localhost:8080/"
        },
        "id": "vPcAEJ_QJZUf",
        "outputId": "f12d39e8-5212-4c99-fdd1-bf7369e6e18c"
      },
      "source": [
        "if quantidade < 18:\n",
        "  print(f'Você irá precisar apenas de {lata} lata\\nValor: R${lata*80.00}')\n",
        "elif quantidade > 18:\n",
        "  print(f'Quantidade de latas necessaria: {lata}\\nValor: R$ {lata*80.00}')"
      ],
      "execution_count": 52,
      "outputs": [
        {
          "output_type": "stream",
          "name": "stdout",
          "text": [
            "Quantidade de latas necessaria: 4\n",
            "Valor: R$ 320.0\n"
          ]
        }
      ]
    },
    {
      "cell_type": "code",
      "metadata": {
        "id": "3AdNHad5KMze"
      },
      "source": [
        "if quantidade < 18:\n",
        "  print(f'Você irá precisar apenas de {lata} lata\\nValor: R${lata*80.00}')\n",
        "elif quantidade > 18:\n",
        "  print(f'Quantidade de latas necessaria: {lata}\\nValor: R$ {lata*80.00}')"
      ],
      "execution_count": null,
      "outputs": []
    },
    {
      "cell_type": "code",
      "metadata": {
        "colab": {
          "base_uri": "https://localhost:8080/"
        },
        "id": "1a179gCKKXHW",
        "outputId": "daec8e92-9514-4d63-c3e4-3d9aaf535890"
      },
      "source": [
        "if quantidade < 3.6:\n",
        "  print(f'Você irá precisar apenas de {galao} galão\\nValor: R${galao*25.00}')\n",
        "elif quantidade > 18:\n",
        "  print(f'Quantidade de galões necessaria: {galao}\\nValor: R$ {galao*25.00}')"
      ],
      "execution_count": 54,
      "outputs": [
        {
          "output_type": "stream",
          "name": "stdout",
          "text": [
            "Quantidade de galões necessaria: 17\n",
            "Valor: R$ 425.0\n"
          ]
        }
      ]
    },
    {
      "cell_type": "code",
      "metadata": {
        "id": "YrOYRjCPLFuV"
      },
      "source": [
        ""
      ],
      "execution_count": null,
      "outputs": []
    },
    {
      "cell_type": "code",
      "metadata": {
        "id": "aovZy_P6Lav5"
      },
      "source": [
        ""
      ],
      "execution_count": null,
      "outputs": []
    }
  ]
}
{
  "nbformat": 4,
  "nbformat_minor": 0,
  "metadata": {
    "colab": {
      "name": "Exercicios.ipynb",
      "provenance": [],
      "collapsed_sections": [],
      "authorship_tag": "ABX9TyMxOyTX/tT2kUDEe0rs4Rpx",
      "include_colab_link": true
    },
    "kernelspec": {
      "name": "python3",
      "display_name": "Python 3"
    },
    "language_info": {
      "name": "python"
    }
  },
  "cells": [
    {
      "cell_type": "markdown",
      "metadata": {
        "id": "view-in-github",
        "colab_type": "text"
      },
      "source": [
        "<a href=\"https://colab.research.google.com/github/italosilva02/exercicioPy/blob/main/Exercicios.ipynb\" target=\"_parent\"><img src=\"https://colab.research.google.com/assets/colab-badge.svg\" alt=\"Open In Colab\"/></a>"
      ]
    },
    {
      "cell_type": "markdown",
      "metadata": {
        "id": "L6S2hC88lozq"
      },
      "source": [
        "#**1 - Faça um Programa que mostre a mensagem \"Alo mundo\" na tela.**\n"
      ]
    },
    {
      "cell_type": "code",
      "metadata": {
        "colab": {
          "base_uri": "https://localhost:8080/"
        },
        "id": "RDeg3dPhlvO0",
        "outputId": "987afe7c-37e3-4952-a1a7-023fdb6a7bab"
      },
      "source": [
        "print('Alo mundo')"
      ],
      "execution_count": null,
      "outputs": [
        {
          "output_type": "stream",
          "name": "stdout",
          "text": [
            "Alo mundo\n"
          ]
        }
      ]
    },
    {
      "cell_type": "markdown",
      "metadata": {
        "id": "T9DqT5M4ly1L"
      },
      "source": [
        "#**2 - Faça um Programa que peça um número e então mostre a mensagem O número informado foi [número].**"
      ]
    },
    {
      "cell_type": "code",
      "metadata": {
        "colab": {
          "base_uri": "https://localhost:8080/"
        },
        "id": "qp88pnAhl4MT",
        "outputId": "24c07e93-2483-49e6-8b7c-1d711d35099e"
      },
      "source": [
        "a = int(input('Informe um número: '));\n",
        "print(f'O número informado foi {a}')"
      ],
      "execution_count": null,
      "outputs": [
        {
          "output_type": "stream",
          "name": "stdout",
          "text": [
            "Informe um número: 15\n",
            "O número informado foi 15\n"
          ]
        }
      ]
    },
    {
      "cell_type": "markdown",
      "metadata": {
        "id": "y0ESd0G9mGnL"
      },
      "source": [
        "#**3 - Faça um Programa que peça dois números e imprima a soma.**"
      ]
    },
    {
      "cell_type": "code",
      "metadata": {
        "colab": {
          "base_uri": "https://localhost:8080/"
        },
        "id": "DSnaDF9OmKVr",
        "outputId": "c06e2001-ba4a-4950-e2b3-0b0c90b3e3e5"
      },
      "source": [
        "a = int(input('Informe o primeiro número: '))\n",
        "b = int(input('Informe o segundo número: '))"
      ],
      "execution_count": null,
      "outputs": [
        {
          "name": "stdout",
          "output_type": "stream",
          "text": [
            "Informe o primeiro número: 10\n",
            "Informe o segundo número: 15\n"
          ]
        }
      ]
    },
    {
      "cell_type": "code",
      "metadata": {
        "colab": {
          "base_uri": "https://localhost:8080/"
        },
        "id": "OkjfCUyEmSxT",
        "outputId": "3e6aa897-41ee-4df7-de78-bad2c24ac03f"
      },
      "source": [
        "print(f'A soma entre {a} e {b} é: {a+b}')"
      ],
      "execution_count": null,
      "outputs": [
        {
          "output_type": "stream",
          "name": "stdout",
          "text": [
            "A soma entre 10 e 15 é: 25\n"
          ]
        }
      ]
    },
    {
      "cell_type": "markdown",
      "metadata": {
        "id": "xc6cMll5mgVa"
      },
      "source": [
        "#**4 - Faça um Programa que peça as 4 notas bimestrais e mostre a média.**"
      ]
    },
    {
      "cell_type": "code",
      "metadata": {
        "id": "PvxjYy4Wml27"
      },
      "source": [
        "a1 = float(input('Informe a primeira nota: '))\n",
        "a2 = float(input('Informe a segunda nota: '))\n",
        "a3 = float(input('Informe a terceira nota: '))\n",
        "a4 = float(input('Informe a quarta nota: '))"
      ],
      "execution_count": null,
      "outputs": []
    },
    {
      "cell_type": "code",
      "metadata": {
        "id": "Y_bSKtMhmxES"
      },
      "source": [
        "media = (a1 + a2 + a3 + a4) / 4"
      ],
      "execution_count": null,
      "outputs": []
    },
    {
      "cell_type": "code",
      "metadata": {
        "colab": {
          "base_uri": "https://localhost:8080/"
        },
        "id": "9ZRPkD7mm1Ri",
        "outputId": "4f9a10c6-786c-4748-848e-255779ab4480"
      },
      "source": [
        "print(round(media, 1))"
      ],
      "execution_count": null,
      "outputs": [
        {
          "output_type": "stream",
          "name": "stdout",
          "text": [
            "4.8\n"
          ]
        }
      ]
    },
    {
      "cell_type": "markdown",
      "metadata": {
        "id": "3aXKzkkxnAKy"
      },
      "source": [
        "#**5 - Faça um Programa que converta metros para centímetros.**"
      ]
    },
    {
      "cell_type": "code",
      "metadata": {
        "colab": {
          "base_uri": "https://localhost:8080/"
        },
        "id": "v4yMctP0nE46",
        "outputId": "40c6263d-3784-4ca4-a711-4550705387ed"
      },
      "source": [
        "a = float(input('Informe o valor em metros: '))\n",
        "print(f'O valor {a} em centimetros é {a * 100} cm')"
      ],
      "execution_count": null,
      "outputs": [
        {
          "output_type": "stream",
          "name": "stdout",
          "text": [
            "Informe o valor em metros: 1.63\n",
            "O valor 1.63 em centimetros é 163.0 cm\n"
          ]
        }
      ]
    },
    {
      "cell_type": "markdown",
      "metadata": {
        "id": "wx2h0wbwnqEB"
      },
      "source": [
        ""
      ]
    },
    {
      "cell_type": "markdown",
      "metadata": {
        "id": "gHhK_IIlnsGh"
      },
      "source": [
        "#**6 - Faça um Programa que peça o raio de um círculo, calcule e mostre sua área.** "
      ]
    },
    {
      "cell_type": "code",
      "metadata": {
        "colab": {
          "base_uri": "https://localhost:8080/"
        },
        "id": "-l0nL-4enu2q",
        "outputId": "e680041d-038c-432a-99d0-2438006c7749"
      },
      "source": [
        "pi = 3.1415\n",
        "a = float(input('Informe o raio do circulo: '))"
      ],
      "execution_count": null,
      "outputs": [
        {
          "name": "stdout",
          "output_type": "stream",
          "text": [
            "Informe o raio do circulo: 5\n"
          ]
        }
      ]
    },
    {
      "cell_type": "code",
      "metadata": {
        "id": "bXYZzPvMoBGa"
      },
      "source": [
        "raio = pi * (a*a)"
      ],
      "execution_count": null,
      "outputs": []
    },
    {
      "cell_type": "code",
      "metadata": {
        "colab": {
          "base_uri": "https://localhost:8080/"
        },
        "id": "9DHZYnEpoFmJ",
        "outputId": "d580fd0c-d97b-477a-fa2d-8bd704c75754"
      },
      "source": [
        "print(f'O raio do circulo é: {round(raio, 2)}')"
      ],
      "execution_count": null,
      "outputs": [
        {
          "output_type": "stream",
          "name": "stdout",
          "text": [
            "O raio do circulo é: 78.54\n"
          ]
        }
      ]
    },
    {
      "cell_type": "markdown",
      "metadata": {
        "id": "XFhDw1mAol3J"
      },
      "source": [
        "#**7 - Faça um Programa que calcule a área de um quadrado, em seguida mostre o dobro desta área para o usuário.**"
      ]
    },
    {
      "cell_type": "code",
      "metadata": {
        "colab": {
          "base_uri": "https://localhost:8080/"
        },
        "id": "HwMVtY00orW5",
        "outputId": "45522f4c-9b62-4765-a48d-29c5db672f4d"
      },
      "source": [
        "a = float(input('Informe a altura: '))\n",
        "b = float(input('Informe a base: '))"
      ],
      "execution_count": null,
      "outputs": [
        {
          "name": "stdout",
          "output_type": "stream",
          "text": [
            "Informe a altura: 12.5\n",
            "Informe a base: 6.9\n"
          ]
        }
      ]
    },
    {
      "cell_type": "code",
      "metadata": {
        "id": "FAGHw0y1o7jZ"
      },
      "source": [
        "quadrado = a*b"
      ],
      "execution_count": null,
      "outputs": []
    },
    {
      "cell_type": "code",
      "metadata": {
        "id": "pLHUgxnupL5B"
      },
      "source": [
        "quadrado = quadrado * 2"
      ],
      "execution_count": null,
      "outputs": []
    },
    {
      "cell_type": "code",
      "metadata": {
        "colab": {
          "base_uri": "https://localhost:8080/"
        },
        "id": "iYdHZ4Sjo-mo",
        "outputId": "3598f922-6431-44cb-dd96-e43604c18fe9"
      },
      "source": [
        "print(f'O dobro da área desse quadrado é: {round(quadrado, 2)}' )"
      ],
      "execution_count": null,
      "outputs": [
        {
          "output_type": "stream",
          "name": "stdout",
          "text": [
            "O dobro da área desse quadrado é: 86.25\n"
          ]
        }
      ]
    },
    {
      "cell_type": "markdown",
      "metadata": {
        "id": "RBlvG41dpu9B"
      },
      "source": [
        "#**8 - Faça um Programa que pergunte quanto você ganha por hora e o número de horas trabalhadas no mês. Calcule e mostre o total do seu salário no referido mês.**"
      ]
    },
    {
      "cell_type": "code",
      "metadata": {
        "id": "69-9avCepy45",
        "colab": {
          "base_uri": "https://localhost:8080/"
        },
        "outputId": "a0c74c50-0994-4730-e023-5e93f3eaaf11"
      },
      "source": [
        "a = float(input('Quanto você recebe por hora: R$ '))\n",
        "a1 = float(input('Quantas horas você trabalha por mês: '))"
      ],
      "execution_count": 53,
      "outputs": [
        {
          "name": "stdout",
          "output_type": "stream",
          "text": [
            "Quanto você recebe por hora: R$ 13\n",
            "Quantas horas você trabalha por mês: 160\n"
          ]
        }
      ]
    },
    {
      "cell_type": "code",
      "metadata": {
        "id": "aXfkUMxYqqKg"
      },
      "source": [
        "salario = (a*a1)"
      ],
      "execution_count": 54,
      "outputs": []
    },
    {
      "cell_type": "code",
      "metadata": {
        "id": "PQGQr1qHqtDT",
        "colab": {
          "base_uri": "https://localhost:8080/"
        },
        "outputId": "542e20b8-7c22-4505-a315-4fe8e817c43b"
      },
      "source": [
        "print(f'Seu salário é de R$ {round(salario, 2)} por mês')"
      ],
      "execution_count": 55,
      "outputs": [
        {
          "output_type": "stream",
          "name": "stdout",
          "text": [
            "Seu salário é de R$ 2080.0 por mês\n"
          ]
        }
      ]
    },
    {
      "cell_type": "markdown",
      "metadata": {
        "id": "uT5VqifXrTTQ"
      },
      "source": [
        "#**9 - Faça um Programa que peça a temperatura em graus Fahrenheit, transforme e mostre a temperatura em graus Celsius.**\n",
        "**C = 5 * ((F-32) / 9)**"
      ]
    },
    {
      "cell_type": "code",
      "metadata": {
        "colab": {
          "base_uri": "https://localhost:8080/"
        },
        "id": "-QBfDLmhriSd",
        "outputId": "24d944ca-0665-4100-ce8f-ae3c07b78a2f"
      },
      "source": [
        "f = float(input('Informe a temperatura em Fahrentheit: '))"
      ],
      "execution_count": 56,
      "outputs": [
        {
          "name": "stdout",
          "output_type": "stream",
          "text": [
            "Informe a temperatura em Fahrentheit: 69\n"
          ]
        }
      ]
    },
    {
      "cell_type": "code",
      "metadata": {
        "id": "NEgxjE0Brt0Q"
      },
      "source": [
        "c = 5 * ((f-32) / 9)"
      ],
      "execution_count": 57,
      "outputs": []
    },
    {
      "cell_type": "code",
      "metadata": {
        "colab": {
          "base_uri": "https://localhost:8080/"
        },
        "id": "PFqX-3z5r0kv",
        "outputId": "4dade532-bc54-4879-97ab-b891279809b8"
      },
      "source": [
        "print(f'A temperatura em graus Celsius é de {round(c, 2)}')"
      ],
      "execution_count": 58,
      "outputs": [
        {
          "output_type": "stream",
          "name": "stdout",
          "text": [
            "A temperatura em graus Celsius é de 20.56\n"
          ]
        }
      ]
    },
    {
      "cell_type": "markdown",
      "metadata": {
        "id": "a2K1buf-sLC_"
      },
      "source": [
        "#**10 - Faça um Programa que peça a temperatura em graus Celsius, transforme e mostre em graus Fahrenheit.**"
      ]
    },
    {
      "cell_type": "code",
      "metadata": {
        "colab": {
          "base_uri": "https://localhost:8080/"
        },
        "id": "cvLj5p4ascmu",
        "outputId": "fc376887-4437-427a-c5f7-c6d116ca6d60"
      },
      "source": [
        "c = float(input())"
      ],
      "execution_count": 11,
      "outputs": [
        {
          "name": "stdout",
          "output_type": "stream",
          "text": [
            "9\n"
          ]
        }
      ]
    },
    {
      "cell_type": "code",
      "metadata": {
        "id": "HFnquVs9sNPo"
      },
      "source": [
        "f = (c* 1.8) + 32"
      ],
      "execution_count": 12,
      "outputs": []
    },
    {
      "cell_type": "code",
      "metadata": {
        "colab": {
          "base_uri": "https://localhost:8080/"
        },
        "id": "m5MNYp5AsfYZ",
        "outputId": "5710de53-769c-4ea4-a1dc-605488fdd7d0"
      },
      "source": [
        "print(f)"
      ],
      "execution_count": 13,
      "outputs": [
        {
          "output_type": "stream",
          "name": "stdout",
          "text": [
            "48.2\n"
          ]
        }
      ]
    },
    {
      "cell_type": "markdown",
      "metadata": {
        "id": "QLOAsVQBtXuG"
      },
      "source": [
        "#**11 - Faça um Programa que peça 2 números inteiros e um número real. Calcule e mostre:**\n",
        "- o produto do dobro do primeiro com metade do segundo .\n",
        "- a soma do triplo do primeiro com o terceiro.\n",
        "- o terceiro elevado ao cubo."
      ]
    },
    {
      "cell_type": "code",
      "metadata": {
        "colab": {
          "base_uri": "https://localhost:8080/"
        },
        "id": "J03RKbYltgve",
        "outputId": "5b961c9a-e281-41f4-b82b-5a694fd0f7a4"
      },
      "source": [
        "a = int(input('Informe um número inteiro: '))\n",
        "a1 = int(input('Informe outro número inteiro: '))\n",
        "a2 = float(input('Agora informe um número real (Número com virgula): '))"
      ],
      "execution_count": 17,
      "outputs": [
        {
          "name": "stdout",
          "output_type": "stream",
          "text": [
            "Informe um número inteiro: 5\n",
            "Informe outro número inteiro: 2\n",
            "Agora informe um número real (Número com virgula): 9.80\n"
          ]
        }
      ]
    },
    {
      "cell_type": "code",
      "metadata": {
        "id": "dVSTbkaMuCD3"
      },
      "source": [
        "produto = (a*2) * (a1/2)"
      ],
      "execution_count": 18,
      "outputs": []
    },
    {
      "cell_type": "code",
      "metadata": {
        "id": "3veyIT2wu3kV"
      },
      "source": [
        "soma_tripolo = (a*3) + a2"
      ],
      "execution_count": 20,
      "outputs": []
    },
    {
      "cell_type": "code",
      "metadata": {
        "id": "KICGTfVrvP8V"
      },
      "source": [
        "cubo = (a2 * a2 * a2)"
      ],
      "execution_count": 22,
      "outputs": []
    },
    {
      "cell_type": "code",
      "metadata": {
        "colab": {
          "base_uri": "https://localhost:8080/"
        },
        "id": "Jshk5rY5vo2E",
        "outputId": "98ddfd5d-bc1e-44e3-97cc-d31d4a655829"
      },
      "source": [
        "print(f'o produto do dobro do primeiro com metade do segundo = {round(produto, 2)}')\n",
        "print(f'a soma do triplo do primeiro com o terceiro = {round(soma_tripolo, 2)}')\n",
        "print(f'o terceiro elevado ao cubo = {round(cubo, 2)}')"
      ],
      "execution_count": 24,
      "outputs": [
        {
          "output_type": "stream",
          "name": "stdout",
          "text": [
            "o produto do dobro do primeiro com metade do segundo = 10.0\n",
            "a soma do triplo do primeiro com o terceiro = 24.8\n",
            "o terceiro elevado ao cubo = 941.19\n"
          ]
        }
      ]
    },
    {
      "cell_type": "markdown",
      "metadata": {
        "id": "3qvjeF2bzzLp"
      },
      "source": [
        "#**12 - Tendo como dados de entrada a altura de uma pessoa, construa um algoritmo que calcule seu peso ideal, usando a seguinte fórmula: (72.7*altura) - 58**"
      ]
    },
    {
      "cell_type": "code",
      "metadata": {
        "colab": {
          "base_uri": "https://localhost:8080/"
        },
        "id": "2vF1GO1jz6eJ",
        "outputId": "0542901f-8d4e-4a27-b11f-f794f36fce5d"
      },
      "source": [
        "p = float(input('Informe sua altura em metros: '))"
      ],
      "execution_count": 25,
      "outputs": [
        {
          "name": "stdout",
          "output_type": "stream",
          "text": [
            "Informe sua altura em metros: 1.63\n"
          ]
        }
      ]
    },
    {
      "cell_type": "code",
      "metadata": {
        "id": "YIoWmhox0Geg"
      },
      "source": [
        "peso_ideal = (72.7 * p) - 58"
      ],
      "execution_count": 26,
      "outputs": []
    },
    {
      "cell_type": "code",
      "metadata": {
        "colab": {
          "base_uri": "https://localhost:8080/"
        },
        "id": "uZ9aNG340Mu5",
        "outputId": "bf7b00ba-201f-4945-b502-b85b402cb3f6"
      },
      "source": [
        "print(f'seu peso ideial é {round(peso_ideal, 2)} kg')"
      ],
      "execution_count": 27,
      "outputs": [
        {
          "output_type": "stream",
          "name": "stdout",
          "text": [
            "seu peso ideial é 60.5 kg\n"
          ]
        }
      ]
    },
    {
      "cell_type": "markdown",
      "metadata": {
        "id": "1834P3Ne0mIo"
      },
      "source": [
        "#**13 - Tendo como dado de entrada a altura (h) de uma pessoa, construa um algoritmo que calcule seu peso ideal, utilizando as seguintes fórmulas:**\n",
        "- Para homens: (72.7*h) - 58\n",
        "- Para mulheres: (62.1*h) - 44.7"
      ]
    },
    {
      "cell_type": "code",
      "metadata": {
        "colab": {
          "base_uri": "https://localhost:8080/"
        },
        "id": "ckZXJjKk0zCQ",
        "outputId": "cdf312e3-129f-4426-ff6b-3136b7090c6d"
      },
      "source": [
        "h = float(input('Informe a sua altura em metros: '))"
      ],
      "execution_count": 9,
      "outputs": [
        {
          "name": "stdout",
          "output_type": "stream",
          "text": [
            "Informe a sua altura em metros: 1.83\n"
          ]
        }
      ]
    },
    {
      "cell_type": "code",
      "metadata": {
        "colab": {
          "base_uri": "https://localhost:8080/"
        },
        "id": "vZ_fMELz07tJ",
        "outputId": "e73ec1ce-160d-42cd-89a1-9dca10044c66"
      },
      "source": [
        "resp = input('Informe o seu sexo (homem/mulher)\\n')"
      ],
      "execution_count": 10,
      "outputs": [
        {
          "name": "stdout",
          "output_type": "stream",
          "text": [
            "Informe o seu sexo (homem/mulher)\n",
            "mulher\n"
          ]
        }
      ]
    },
    {
      "cell_type": "code",
      "metadata": {
        "colab": {
          "base_uri": "https://localhost:8080/"
        },
        "id": "lXeUPHyz1KaK",
        "outputId": "0605f65e-446c-45fb-c87f-337716b7aaba"
      },
      "source": [
        "if resp == 'homem':\n",
        "  print(f'Seu peso ideial é {round((72.7*h)-58, 2)} kg')\n",
        "elif resp == 'mulher':\n",
        "  print(f'Seu peso ideial é {round((62.1*h)-44.7, 2)} kg')\n",
        "else: \n",
        "  print('Informações faltante')\n"
      ],
      "execution_count": 11,
      "outputs": [
        {
          "output_type": "stream",
          "name": "stdout",
          "text": [
            "Seu peso ideial é 68.94 kg\n"
          ]
        }
      ]
    },
    {
      "cell_type": "markdown",
      "metadata": {
        "id": "bw7TDeeX2csW"
      },
      "source": [
        "#**14 - João Papo-de-Pescador, homem de bem, comprou um microcomputador para controlar o rendimento diário de seu trabalho. Toda vez que ele traz um peso de peixes maior que o estabelecido pelo regulamento de pesca do estado de São Paulo (50 quilos) deve pagar uma multa de R$ 4,00 por quilo excedente. João precisa que você faça um programa que leia a variável peso (peso de peixes) e calcule o excesso. Gravar na variável excesso a quantidade de quilos além do limite e na variável multa o valor da multa que João deverá pagar. Imprima os dados do programa com as mensagens adequadas.**"
      ]
    },
    {
      "cell_type": "code",
      "metadata": {
        "id": "uUdegQwF2iTP"
      },
      "source": [
        ""
      ],
      "execution_count": null,
      "outputs": []
    }
  ]
}
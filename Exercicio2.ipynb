{
  "nbformat": 4,
  "nbformat_minor": 0,
  "metadata": {
    "colab": {
      "name": "Exercicio2.ipynb",
      "provenance": [],
      "collapsed_sections": [],
      "authorship_tag": "ABX9TyPgo83e1Q1DRBzv6ANK+RtX",
      "include_colab_link": true
    },
    "kernelspec": {
      "name": "python3",
      "display_name": "Python 3"
    },
    "language_info": {
      "name": "python"
    }
  },
  "cells": [
    {
      "cell_type": "markdown",
      "metadata": {
        "id": "view-in-github",
        "colab_type": "text"
      },
      "source": [
        "<a href=\"https://colab.research.google.com/github/italosilva02/exercicioPy/blob/main/Exercicio2.ipynb\" target=\"_parent\"><img src=\"https://colab.research.google.com/assets/colab-badge.svg\" alt=\"Open In Colab\"/></a>"
      ]
    },
    {
      "cell_type": "markdown",
      "metadata": {
        "id": "Qls8D93xMoAL"
      },
      "source": [
        "#**Estrutura De Decisão**\n",
        "-------------------------------------------------------------------------------"
      ]
    },
    {
      "cell_type": "markdown",
      "metadata": {
        "id": "QKsK72XlNDk6"
      },
      "source": [
        "#**1 - Faça um Programa que peça dois números e imprima o maior deles.**"
      ]
    },
    {
      "cell_type": "code",
      "metadata": {
        "colab": {
          "base_uri": "https://localhost:8080/"
        },
        "id": "-fEoEldUNHyi",
        "outputId": "1c7e89b7-71e2-4ae1-db10-9137fc776935"
      },
      "source": [
        "a = float(input('Informe o primeiro número: '))\n",
        "b = float(input('Informe o segundo número: '))"
      ],
      "execution_count": null,
      "outputs": [
        {
          "name": "stdout",
          "output_type": "stream",
          "text": [
            "Informe o primeiro número: 3\n",
            "Informe o segundo número: 5\n"
          ]
        }
      ]
    },
    {
      "cell_type": "code",
      "metadata": {
        "colab": {
          "base_uri": "https://localhost:8080/"
        },
        "id": "d6Ybfph2Q9sO",
        "outputId": "2faafa23-5776-4975-d615-991847cf312e"
      },
      "source": [
        "if a > b: \n",
        "  print(f'O valor {a} é maior que {b}')\n",
        "else: \n",
        "  print(f'O valor {b} é maior que o valor {a}')"
      ],
      "execution_count": null,
      "outputs": [
        {
          "output_type": "stream",
          "name": "stdout",
          "text": [
            "O valor 5.0 é maior que o valor 3.0\n"
          ]
        }
      ]
    },
    {
      "cell_type": "markdown",
      "metadata": {
        "id": "4hoDnaMbRd4c"
      },
      "source": [
        "#**2 - Faça um Programa que peça um valor e mostre na tela se o valor é positivo ou negativo.**"
      ]
    },
    {
      "cell_type": "code",
      "metadata": {
        "colab": {
          "base_uri": "https://localhost:8080/"
        },
        "id": "Rg97vszrRh49",
        "outputId": "a87945f6-54ee-4709-f242-c7b29db8e55d"
      },
      "source": [
        "a = float(input('Informe um valor: '))"
      ],
      "execution_count": null,
      "outputs": [
        {
          "name": "stdout",
          "output_type": "stream",
          "text": [
            "Informe um valor: 2\n"
          ]
        }
      ]
    },
    {
      "cell_type": "code",
      "metadata": {
        "colab": {
          "base_uri": "https://localhost:8080/"
        },
        "id": "Zy9LzvNDRmrN",
        "outputId": "2a38b712-fb0d-43c4-e56a-7e9d91cb7a6f"
      },
      "source": [
        "if a % 2 == 0:\n",
        "  print(f'{a} é um valor par')\n",
        "else:\n",
        "  print(f'{a} é um valor ímpar')"
      ],
      "execution_count": null,
      "outputs": [
        {
          "output_type": "stream",
          "name": "stdout",
          "text": [
            "2.0 é um valor par\n"
          ]
        }
      ]
    },
    {
      "cell_type": "markdown",
      "metadata": {
        "id": "uynmwLX4R899"
      },
      "source": [
        "#**3 - Faça um Programa que verifique se uma letra digitada é \"F\" ou \"M\". Conforme a letra escrever: F - Feminino, M - Masculino, Sexo Inválido.**"
      ]
    },
    {
      "cell_type": "code",
      "metadata": {
        "colab": {
          "base_uri": "https://localhost:8080/"
        },
        "id": "Ut6i1R7VSAxU",
        "outputId": "b07b0211-9419-4bbc-c5f9-a47ce4faf081"
      },
      "source": [
        "sexo = input('Informe seu sexo (F/M:) ')"
      ],
      "execution_count": null,
      "outputs": [
        {
          "name": "stdout",
          "output_type": "stream",
          "text": [
            "Informe seu sexo (F/M:) m\n"
          ]
        }
      ]
    },
    {
      "cell_type": "code",
      "metadata": {
        "colab": {
          "base_uri": "https://localhost:8080/"
        },
        "id": "5b3tPrPTSMlk",
        "outputId": "aa66e22f-37b8-4329-d2c8-64e659667ff9"
      },
      "source": [
        "if sexo == 'F' or sexo == 'f':\n",
        "  print('Sexo Feminino')\n",
        "elif sexo == 'M' or sexo == 'm':\n",
        "  print('Sexo Masculino')\n",
        "else: \n",
        "  print('valor Inválido')"
      ],
      "execution_count": null,
      "outputs": [
        {
          "output_type": "stream",
          "name": "stdout",
          "text": [
            "Sexo Masculino\n"
          ]
        }
      ]
    },
    {
      "cell_type": "markdown",
      "metadata": {
        "id": "a0ulVm88SvcU"
      },
      "source": [
        "#**4 - Faça um Programa que verifique se uma letra digitada é vogal ou consoante.**"
      ]
    },
    {
      "cell_type": "code",
      "metadata": {
        "colab": {
          "base_uri": "https://localhost:8080/"
        },
        "id": "71d2BJrWS2PD",
        "outputId": "8f446a7e-79cc-45d6-8517-2cb4d474f1d0"
      },
      "source": [
        "l = input('Informe uma letra: ')"
      ],
      "execution_count": null,
      "outputs": [
        {
          "name": "stdout",
          "output_type": "stream",
          "text": [
            "Informe uma letra: L\n"
          ]
        }
      ]
    },
    {
      "cell_type": "code",
      "metadata": {
        "id": "3J_bHQWYTLjj"
      },
      "source": [
        "l = l.lower()"
      ],
      "execution_count": null,
      "outputs": []
    },
    {
      "cell_type": "code",
      "metadata": {
        "colab": {
          "base_uri": "https://localhost:8080/"
        },
        "id": "zvXz_oUtTzey",
        "outputId": "baa207e3-18b3-49cb-a916-c75862fcabbc"
      },
      "source": [
        "print(l)"
      ],
      "execution_count": null,
      "outputs": [
        {
          "output_type": "stream",
          "name": "stdout",
          "text": [
            "l\n"
          ]
        }
      ]
    },
    {
      "cell_type": "code",
      "metadata": {
        "colab": {
          "base_uri": "https://localhost:8080/"
        },
        "id": "-hoHucktTBnD",
        "outputId": "c7f65fd8-08b9-4362-e249-6491fcb3ac6a"
      },
      "source": [
        "if l == 'a' or l == 'e' or l == 'i' or l == 'o' or l == 'u':\n",
        "  print('A letra é uma vogal')\n",
        "else: \n",
        "  print('A letra é uma consoante')"
      ],
      "execution_count": null,
      "outputs": [
        {
          "output_type": "stream",
          "name": "stdout",
          "text": [
            "A letra é uma consoante\n"
          ]
        }
      ]
    },
    {
      "cell_type": "markdown",
      "metadata": {
        "id": "CB_yaN3YUl5Z"
      },
      "source": [
        "#**5 - Faça um programa para a leitura de duas notas parciais de um aluno. O programa deve calcular a média alcançada por aluno e apresentar:**\n",
        "- A mensagem \"Aprovado\", se a média alcançada for maior ou igual a sete;\n",
        "- A mensagem \"Reprovado\", se a média for menor do que sete;\n",
        "- A mensagem \"Aprovado com Distinção\", se a média for igual a dez."
      ]
    },
    {
      "cell_type": "code",
      "metadata": {
        "colab": {
          "base_uri": "https://localhost:8080/"
        },
        "id": "UPT5XT8CWQUx",
        "outputId": "3a97ed95-8c10-44d7-d20b-c8134ebbc44e"
      },
      "source": [
        "nome = input('Informe seu nome: ')\n",
        "nome = nome.capitalize()"
      ],
      "execution_count": null,
      "outputs": [
        {
          "name": "stdout",
          "output_type": "stream",
          "text": [
            "Informe seu nome: italo\n"
          ]
        }
      ]
    },
    {
      "cell_type": "code",
      "metadata": {
        "colab": {
          "base_uri": "https://localhost:8080/"
        },
        "id": "0WdWebV7UqaM",
        "outputId": "03c4802d-3bc0-402c-cd0a-eecc82c290f5"
      },
      "source": [
        "n1 = float(input('Informe a primeira nota: '))\n",
        "n2 = float(input('Informe a segunda nota: '))\n",
        "n3 = float(input('Informe a terceira nota: '))"
      ],
      "execution_count": null,
      "outputs": [
        {
          "name": "stdout",
          "output_type": "stream",
          "text": [
            "Informe a primeira nota: 7\n",
            "Informe a segunda nota: 7\n",
            "Informe a terceira nota: 7\n"
          ]
        }
      ]
    },
    {
      "cell_type": "code",
      "metadata": {
        "id": "M-C4NQk-WgQu"
      },
      "source": [
        "nota = (n1+n2+n3) / 3"
      ],
      "execution_count": null,
      "outputs": []
    },
    {
      "cell_type": "code",
      "metadata": {
        "colab": {
          "base_uri": "https://localhost:8080/"
        },
        "id": "5abzcJlsWd9P",
        "outputId": "1e2aef41-9b32-4615-e299-259dee5773d4"
      },
      "source": [
        "if nota >= 7.0 and nota < 10.0:\n",
        "  print(f'{nome}, sua nota foi de {round(nota, 2)}')\n",
        "  print('APROVADO')\n",
        "elif nota == 10.0:\n",
        "  print(f'{nome}, sua nota foi de {round(nota, 2)}')\n",
        "  print('APROVADO COM DISTINÇÃO')\n",
        "elif nota < 7.0:\n",
        "  print(f'{nome}, sua nota foi de {round(nota, 2)}')\n",
        "  print('REPROVADO')"
      ],
      "execution_count": null,
      "outputs": [
        {
          "output_type": "stream",
          "name": "stdout",
          "text": [
            "Italo, sua nota foi de 7.0\n",
            "APROVADO\n"
          ]
        }
      ]
    },
    {
      "cell_type": "markdown",
      "metadata": {
        "id": "rl94SdhWX2_l"
      },
      "source": [
        "#**6 - Faça um Programa que leia três números e mostre o maior deles.**"
      ]
    },
    {
      "cell_type": "code",
      "metadata": {
        "colab": {
          "base_uri": "https://localhost:8080/"
        },
        "id": "gt6dJ8n4Y80M",
        "outputId": "3bf117dd-7de9-466d-995a-03ad19e9ca11"
      },
      "source": [
        "n1 = float(input('Informe o primeiro número: '))\n",
        "n2 = float(input('Informe o segundo número: '))\n",
        "n3 = float(input('Informe o terceiro número: '))"
      ],
      "execution_count": null,
      "outputs": [
        {
          "name": "stdout",
          "output_type": "stream",
          "text": [
            "Informe o primeiro número: 1\n",
            "Informe o segundo número: 2\n",
            "Informe o terceiro número: 3\n"
          ]
        }
      ]
    },
    {
      "cell_type": "code",
      "metadata": {
        "colab": {
          "base_uri": "https://localhost:8080/"
        },
        "id": "fuy7OiP2ZFTr",
        "outputId": "b903906c-d58e-44fa-d272-90373e034c44"
      },
      "source": [
        "if n1 > n2 and n1 > n3:\n",
        "  print(f'O maior número é o {n1}')\n",
        "elif n2 > n1 and n2 > n3:\n",
        "  print(f'O maior número é o {n2}')\n",
        "else:\n",
        "  print(f'O maior número é o {n3}')"
      ],
      "execution_count": null,
      "outputs": [
        {
          "output_type": "stream",
          "name": "stdout",
          "text": [
            "O maior número é o 3.0\n"
          ]
        }
      ]
    },
    {
      "cell_type": "markdown",
      "metadata": {
        "id": "mai8o62DZqED"
      },
      "source": [
        "#**7 - Faça um Programa que leia três números e mostre o maior e o menor deles.**"
      ]
    },
    {
      "cell_type": "code",
      "metadata": {
        "colab": {
          "base_uri": "https://localhost:8080/"
        },
        "id": "54S6YnAJZsML",
        "outputId": "16ea9fc2-966c-4295-cca7-7a84a354e8be"
      },
      "source": [
        "n1 = float(input('Informe o primeiro número: '))\n",
        "n2 = float(input('Informe o segundo número: '))\n",
        "n3 = float(input('Informe o terceiro número: '))"
      ],
      "execution_count": null,
      "outputs": [
        {
          "name": "stdout",
          "output_type": "stream",
          "text": [
            "Informe o primeiro número: 1.2\n",
            "Informe o segundo número: 5.2\n",
            "Informe o terceiro número: 6.1\n"
          ]
        }
      ]
    },
    {
      "cell_type": "code",
      "metadata": {
        "id": "-GYrCHhIZu32"
      },
      "source": [
        "if n1 > n2 and n1 > n3:\n",
        "  maior = n1\n",
        "elif n2 > n1 and n2 > n3:\n",
        "  maior = n2\n",
        "else:\n",
        "  maior = n3"
      ],
      "execution_count": null,
      "outputs": []
    },
    {
      "cell_type": "code",
      "metadata": {
        "id": "928-8X_WaItU"
      },
      "source": [
        "if n1 < n2 and n1 < n3:\n",
        "  menor = n1\n",
        "elif n2 < n1 and n2 < n3:\n",
        "  menor = n2\n",
        "else:\n",
        "  menor = n3"
      ],
      "execution_count": null,
      "outputs": []
    },
    {
      "cell_type": "code",
      "metadata": {
        "colab": {
          "base_uri": "https://localhost:8080/"
        },
        "id": "Wf0czhHdaQ5z",
        "outputId": "95d40665-d6e3-4253-909d-8792e8212ed8"
      },
      "source": [
        "print(f'Maior = {maior}')\n",
        "print(f'Menor = {menor}')"
      ],
      "execution_count": null,
      "outputs": [
        {
          "output_type": "stream",
          "name": "stdout",
          "text": [
            "Maior = 6.1\n",
            "Menor = 1.2\n"
          ]
        }
      ]
    },
    {
      "cell_type": "markdown",
      "metadata": {
        "id": "GZMRE2-3aioq"
      },
      "source": [
        "#**8 - Faça um programa que pergunte o preço de três produtos e informe qual produto você deve comprar, sabendo que a decisão é sempre pelo mais barato.**"
      ]
    },
    {
      "cell_type": "code",
      "metadata": {
        "colab": {
          "base_uri": "https://localhost:8080/"
        },
        "id": "ENI_W2-gambi",
        "outputId": "00bc1157-57d2-4535-804a-426d170cfe2a"
      },
      "source": [
        "p1 = float(input('Informe o valor do primeiro produto: R$ '))\n",
        "p2 = float(input('Informe o valor do segundo produto: R$ '))\n",
        "p3 = float(input('Informe o valor do terceiro produto: R$ '))"
      ],
      "execution_count": null,
      "outputs": [
        {
          "name": "stdout",
          "output_type": "stream",
          "text": [
            "Informe o valor do primeiro produto: R$ 6.85\n",
            "Informe o valor do segundo produto: R$ 1.50\n",
            "Informe o valor do terceiro produto: R$ 3.69\n"
          ]
        }
      ]
    },
    {
      "cell_type": "code",
      "metadata": {
        "colab": {
          "base_uri": "https://localhost:8080/"
        },
        "id": "WiV5MdT5bDU6",
        "outputId": "54d52165-2018-4c6d-a5af-77a228d95171"
      },
      "source": [
        "if p1 < p2 and p1 < p3:\n",
        "  print(f'O primeiro produto é o mais barato: valor: R$ {p1}')\n",
        "elif p2 < p1 and p2 < p3:\n",
        "  print(f'O segundo produto é o mais barato: valor: R$ {p2}')\n",
        "else:\n",
        "  print(f'O terceiro produto é o mais barato: valor: R$ {p3}')"
      ],
      "execution_count": null,
      "outputs": [
        {
          "output_type": "stream",
          "name": "stdout",
          "text": [
            "O segundo produto é o mais barato: valor: R$ 1.5\n"
          ]
        }
      ]
    },
    {
      "cell_type": "markdown",
      "metadata": {
        "id": "sZSwfBhnbyQJ"
      },
      "source": [
        "\n",
        "#**9 - Faça um Programa que leia três números e mostre-os em ordem decrescente.**\n",
        "\n"
      ]
    },
    {
      "cell_type": "code",
      "metadata": {
        "colab": {
          "base_uri": "https://localhost:8080/"
        },
        "id": "obscGmFdh_7h",
        "outputId": "a5933237-1b82-4d4f-9d32-18917ebf0c9c"
      },
      "source": [
        "n1 = float(input('Informe o primeiro número: '))\n",
        "n2 = float(input('Informe o segundo número: '))\n",
        "n3 = float(input('Informe o terceiro número: '))"
      ],
      "execution_count": null,
      "outputs": [
        {
          "name": "stdout",
          "output_type": "stream",
          "text": [
            "Informe o primeiro número: 1\n",
            "Informe o segundo número: 8\n",
            "Informe o terceiro número: 2\n"
          ]
        }
      ]
    },
    {
      "cell_type": "code",
      "metadata": {
        "colab": {
          "base_uri": "https://localhost:8080/"
        },
        "id": "pOyhIurqiLxI",
        "outputId": "12076234-d75f-49d1-8e56-0aed6a48d29b"
      },
      "source": [
        "if n1 > n2 and n1 > n3 and n2 > n3:\n",
        "  print(n1,n2,n3)\n",
        "elif n2 > n1 and n2 > n3 and n3 > n1:\n",
        "  print(n2,n3,n1)\n",
        "elif n2 > n1 and n2 > n3 and n1 > n2:\n",
        "  print(n2,n1,n3)\n",
        "elif n3 > n1 and n3 > n2 and n2 > n1:\n",
        "    print(n3,n2,n1)\n",
        "else:\n",
        "  print(n2,n1,n3)"
      ],
      "execution_count": null,
      "outputs": [
        {
          "output_type": "stream",
          "name": "stdout",
          "text": [
            "8.0 2.0 1.0\n"
          ]
        }
      ]
    },
    {
      "cell_type": "markdown",
      "metadata": {
        "id": "RXC7bDETjGlX"
      },
      "source": [
        "#**10 - Faça um Programa que pergunte em que turno você estuda. Peça para digitar M-matutino ou V-Vespertino ou N- Noturno. Imprima a mensagem \"Bom Dia!\", \"Boa Tarde!\" ou \"Boa Noite!\" ou \"Valor Inválido!\", conforme o caso.**"
      ]
    },
    {
      "cell_type": "code",
      "metadata": {
        "colab": {
          "base_uri": "https://localhost:8080/"
        },
        "id": "CZ5IO3EdjLYA",
        "outputId": "c3cdcc6f-42bf-4803-d37a-234feb08a2c2"
      },
      "source": [
        "a = input(\"Informe o turno que você estuda: (M: Matutino/V: Verspertino/N: Norturno)\")\n",
        "a = a.upper()"
      ],
      "execution_count": null,
      "outputs": [
        {
          "name": "stdout",
          "output_type": "stream",
          "text": [
            "Informe o turno que você estuda: (M: Matutino/V: Verspertino/N: Norturno)v\n"
          ]
        }
      ]
    },
    {
      "cell_type": "code",
      "metadata": {
        "colab": {
          "base_uri": "https://localhost:8080/"
        },
        "id": "k6Y8pBEGjrsR",
        "outputId": "a99c4186-2e90-4d79-dd23-8771232df0a3"
      },
      "source": [
        "if a == 'M':\n",
        "  print('Bom dia')\n",
        "elif a == 'V':\n",
        "  print('Boa tarde')\n",
        "elif a == 'M':\n",
        "  print('Boa noite')"
      ],
      "execution_count": null,
      "outputs": [
        {
          "output_type": "stream",
          "name": "stdout",
          "text": [
            "Boa tarde\n"
          ]
        }
      ]
    },
    {
      "cell_type": "markdown",
      "metadata": {
        "id": "MandZrYwj9E-"
      },
      "source": [
        "#**11 - As Organizações Tabajara resolveram dar um aumento de salário aos seus colaboradores e lhe contraram para desenvolver o programa que calculará os reajustes.**\n",
        "Faça um programa que recebe o salário de um colaborador e o reajuste segundo o seguinte critério, baseado no salário atual:\n",
        "salários até R$ 280,00 (incluindo) : aumento de 20%\n",
        "salários entre R$ 280,00 e R$ 700,00 : aumento de 15%\n",
        "salários entre R$ 700,00 e R$ 1500,00 : aumento de 10%\n",
        "salários de R$ 1500,00 em diante : aumento de 5% Após o aumento ser realizado, informe na tela:\n",
        "- o salário antes do reajuste;\n",
        "- o percentual de aumento aplicado;\n",
        "- o valor do aumento;\n",
        "- o novo salário, após o aumento."
      ]
    },
    {
      "cell_type": "code",
      "metadata": {
        "colab": {
          "base_uri": "https://localhost:8080/"
        },
        "id": "t2aBuQW1kEzu",
        "outputId": "08d4c971-61f1-4122-c8ab-7a106e954e1e"
      },
      "source": [
        "nome = input('Informe o nome do funcionário: ')\n",
        "nome = nome.capitalize()"
      ],
      "execution_count": null,
      "outputs": [
        {
          "name": "stdout",
          "output_type": "stream",
          "text": [
            "Informe o nome do funcionário: Italo\n"
          ]
        }
      ]
    },
    {
      "cell_type": "code",
      "metadata": {
        "colab": {
          "base_uri": "https://localhost:8080/"
        },
        "id": "sH3Ur-n9kglH",
        "outputId": "5de2705f-0cab-429c-94a4-b555de7e5924"
      },
      "source": [
        "salario = float(input(\"Informe o salário do funcionário: R$ \"))"
      ],
      "execution_count": null,
      "outputs": [
        {
          "name": "stdout",
          "output_type": "stream",
          "text": [
            "Informe o salário do funcionário: R$ 1700\n"
          ]
        }
      ]
    },
    {
      "cell_type": "code",
      "metadata": {
        "id": "nuOgIB0VkrXG"
      },
      "source": [
        "if salario < 280.00: \n",
        "  aumento = (salario * 0.2)\n",
        "  percentual = '20%'\n",
        "elif salario >= 280.00 and salario < 700.00:\n",
        "  aumento = (salario * 0.15) \n",
        "  percentual = '15%'\n",
        "elif salario >= 700.00 and salario < 1500.00:\n",
        "  aumento = (salario * 0.1)\n",
        "  percentual = '10%'\n",
        "elif salario >= 1500:\n",
        "  aumento = (salario * 0.05)\n",
        "  percentual = '5%'"
      ],
      "execution_count": null,
      "outputs": []
    },
    {
      "cell_type": "code",
      "metadata": {
        "id": "rWSOSw4_to1y"
      },
      "source": [
        "novosalario = salario+aumento"
      ],
      "execution_count": null,
      "outputs": []
    },
    {
      "cell_type": "code",
      "metadata": {
        "colab": {
          "base_uri": "https://localhost:8080/"
        },
        "id": "03BjAfH9syH0",
        "outputId": "8a2c00c7-d922-4dca-fe7c-7d17d0e67eb7"
      },
      "source": [
        "print('Nome: ' + nome)\n",
        "print(f'Salário antes do reajuste: R$ {salario}' )\n",
        "print('Percentual: ' + percentual)\n",
        "print(f'valor do aumento: R$ {aumento}')\n",
        "print(f'Novo salário: R$ {novosalario}')"
      ],
      "execution_count": null,
      "outputs": [
        {
          "output_type": "stream",
          "name": "stdout",
          "text": [
            "Nome: Italo\n",
            "Salário antes do reajuste: R$ 1700.0\n",
            "Percentual: 5%\n",
            "valor do aumento: R$ 85.0\n",
            "Novo salário: R$ 1785.0\n"
          ]
        }
      ]
    },
    {
      "cell_type": "markdown",
      "metadata": {
        "id": "80n282za1bPJ"
      },
      "source": [
        "#**12 - Faça um programa para o cálculo de uma folha de pagamento, sabendo que os descontos são do Imposto de Renda, que depende do salário bruto (conforme tabela abaixo) e 3% para o Sindicato e que o FGTS corresponde a 11% do Salário Bruto, mas não é descontado (é a empresa que deposita). O Salário Líquido corresponde ao Salário Bruto menos os descontos. O programa deverá pedir ao usuário o valor da sua hora e a quantidade de horas trabalhadas no mês.**\n",
        "Desconto do IR:\n",
        "- Salário Bruto até 900 (inclusive) - isento\n",
        "- Salário Bruto até 1500 (inclusive) - desconto de 5%\n",
        "- Salário Bruto até 2500 (inclusive) - desconto de 10%\n",
        "- Salário Bruto acima de 2500 - desconto de 20% Imprima na tela as informações, dispostas conforme o exemplo abaixo. No exemplo o valor da hora é 5 e a quantidade de hora é 220 "
      ]
    },
    {
      "cell_type": "code",
      "metadata": {
        "id": "hAv_nBwJ6zTD"
      },
      "source": [
        "import random"
      ],
      "execution_count": null,
      "outputs": []
    },
    {
      "cell_type": "code",
      "metadata": {
        "colab": {
          "base_uri": "https://localhost:8080/"
        },
        "id": "X4ZgLyU11qt5",
        "outputId": "bd30bfe5-a5ca-4ed6-b436-2415a75c22fc"
      },
      "source": [
        "nome = input('Informe o seu nome: ')\n",
        "matricula = random.randint(1,1000000)\n",
        "valor_hora = float(input('Informe quanto você recebe por hora: R$ '))\n",
        "hora_trabalhada = float(input('Informe quantas horas você trabalhou esse mês: '))"
      ],
      "execution_count": null,
      "outputs": [
        {
          "name": "stdout",
          "output_type": "stream",
          "text": [
            "Informe o seu nome: Italo\n",
            "Informe quanto você recebe por hora: R$ 5\n",
            "Informe quantas horas você trabalhou esse mês: 220\n"
          ]
        }
      ]
    },
    {
      "cell_type": "code",
      "metadata": {
        "id": "tJYaEtTv18Yw"
      },
      "source": [
        "salario_bruto = valor_hora * hora_trabalhada"
      ],
      "execution_count": null,
      "outputs": []
    },
    {
      "cell_type": "code",
      "metadata": {
        "id": "wp-pM4bq2EfB"
      },
      "source": [
        "if salario_bruto < 900:\n",
        "  ir = 0\n",
        "  inss = salario_bruto * 0.1\n",
        "  fgts = salario_bruto * 0.11\n",
        "  total_desconto = inss\n",
        "  salario_liquido = salario_bruto - total_desconto\n",
        "\n",
        "elif salario_bruto > 900 and salario_bruto <= 1500:\n",
        "  ir = salario_bruto * 0.05\n",
        "  inss = salario_bruto * 0.1\n",
        "  fgts = salario_bruto * 0.11\n",
        "  total_desconto = ir + inss\n",
        "  salario_liquido = salario_bruto - total_desconto\n",
        "\n",
        "elif salario_bruto > 1500 and salario_bruto <= 2500:\n",
        "  ir = salario_bruto * 0.01\n",
        "  inss = salario_bruto * 0.1\n",
        "  fgts = salario_bruto * 0.11\n",
        "  total_desconto = ir + inss\n",
        "  salario_liquido = salario_bruto - total_desconto\n",
        "\n",
        "elif salario_bruto > 2500:\n",
        "  ir = salario_bruto * 0.2\n",
        "  inss = salario_bruto * 0.1\n",
        "  fgts = salario_bruto * 0.11\n",
        "  total_desconto = ir + inss\n",
        "  salario_liquido = salario_bruto - total_desconto\n",
        "\n",
        "  "
      ],
      "execution_count": null,
      "outputs": []
    },
    {
      "cell_type": "code",
      "metadata": {
        "colab": {
          "base_uri": "https://localhost:8080/"
        },
        "id": "psOJakVE57cd",
        "outputId": "2197d7a6-01da-4f5d-957f-1125201e3b85"
      },
      "source": [
        "print('Nome: ' + nome)\n",
        "print(f'Matricula: {matricula}')\n",
        "print(f'Imposto de Renda: R$ {ir}')\n",
        "print(f'INSS: R$ {inss}')\n",
        "print(f'FGTS: R$ {fgts}' )\n",
        "print(f'Total Descontos: R${total_desconto}')\n",
        "print(f'Salário Liquido: R${salario_liquido}')"
      ],
      "execution_count": null,
      "outputs": [
        {
          "output_type": "stream",
          "name": "stdout",
          "text": [
            "Nome: Italo\n",
            "Matricula: 712785\n",
            "Imposto de Renda: R$ 55.0\n",
            "INSS: R$ 110.0\n",
            "FGTS: R$ 121.0\n",
            "Total Descontos: R$165.0\n",
            "Salário Liquido: R$935.0\n"
          ]
        }
      ]
    },
    {
      "cell_type": "markdown",
      "metadata": {
        "id": "E2k6sOXu8Bnt"
      },
      "source": [
        "#**13 - Faça um Programa que leia um número e exiba o dia correspondente da semana. (1-Domingo, 2- Segunda, etc.), se digitar outro valor deve aparecer valor inválido.**"
      ]
    },
    {
      "cell_type": "code",
      "metadata": {
        "colab": {
          "base_uri": "https://localhost:8080/"
        },
        "id": "Kj8fbs7a8Ivu",
        "outputId": "50c96a9c-1f98-4900-8932-5518c83c7797"
      },
      "source": [
        "a = float(input('Informe o dia da semana (1-Domingo, 2- Segunda, etc.) '))"
      ],
      "execution_count": null,
      "outputs": [
        {
          "name": "stdout",
          "output_type": "stream",
          "text": [
            "Informe o dia da semana (1-Domingo, 2- Segunda, etc.) 7\n"
          ]
        }
      ]
    },
    {
      "cell_type": "code",
      "metadata": {
        "colab": {
          "base_uri": "https://localhost:8080/"
        },
        "id": "4-axC8QM9k7g",
        "outputId": "425b4d04-188b-419b-89e7-c9890c716dbd"
      },
      "source": [
        "if a == 1:\n",
        "  print('Domingo')\n",
        "elif a == 2:\n",
        "  print('Segunda')\n",
        "elif a == 3:\n",
        "  print('Terça')\n",
        "elif a == 4:\n",
        "  print('Quarta')\n",
        "elif a == 5:\n",
        "  print('Quinta')\n",
        "elif a == 6:\n",
        "  print('Sexta')\n",
        "elif a == 7:\n",
        "  print('Sábado')"
      ],
      "execution_count": null,
      "outputs": [
        {
          "output_type": "stream",
          "name": "stdout",
          "text": [
            "Sábado\n"
          ]
        }
      ]
    },
    {
      "cell_type": "markdown",
      "metadata": {
        "id": "PooJATiU-TY_"
      },
      "source": [
        "#**14 - Faça um programa que lê as duas notas parciais obtidas por um aluno numa disciplina ao longo de um semestre, e calcule a sua média. A atribuição de conceitos obedece à tabela abaixo:**\n"
      ]
    },
    {
      "cell_type": "markdown",
      "metadata": {
        "id": "bXar14ev-enf"
      },
      "source": [
        "\n",
        "\n",
        "```\n",
        "Média de Aproveitamento Conceito\n",
        "  Entre 9.0 e 10.0        A\n",
        "  Entre 7.5 e 9.0         B\n",
        "  Entre 6.0 e 7.5         C\n",
        "  Entre 4.0 e 6.0         D\n",
        "  Entre 4.0 e zero        E\n",
        "\n",
        "\n",
        "\n",
        "\n"
      ]
    },
    {
      "cell_type": "code",
      "metadata": {
        "id": "SNcnAeTW-vHI",
        "colab": {
          "base_uri": "https://localhost:8080/"
        },
        "outputId": "993d7bfb-bac1-4661-98db-273acd7441d8"
      },
      "source": [
        "n1 = float(input(\"Informe a primeira nota: \"))\n",
        "n2 = float(input(\"Informe a segunda nota: \"))"
      ],
      "execution_count": null,
      "outputs": [
        {
          "name": "stdout",
          "output_type": "stream",
          "text": [
            "Informe a primeira nota: 5.2\n",
            "Informe a segunda nota: 4.5\n"
          ]
        }
      ]
    },
    {
      "cell_type": "code",
      "metadata": {
        "id": "wIfB5txaF0v6"
      },
      "source": [
        "nota = (n1+n2)/2\n",
        "nota = round(nota, 1)"
      ],
      "execution_count": null,
      "outputs": []
    },
    {
      "cell_type": "code",
      "metadata": {
        "colab": {
          "base_uri": "https://localhost:8080/"
        },
        "id": "MPLc5sweF6Vp",
        "outputId": "a24848d1-3821-43b4-911f-fce49f0eaf38"
      },
      "source": [
        "if nota >= 9.0 and nota <=10:\n",
        "  print(f'A - {nota}')\n",
        "  print('APROVADO')\n",
        "elif nota >=7.5 and nota < 9.0:\n",
        "  print(f'B - {nota}')\n",
        "  print('APROVADO')\n",
        "elif nota >=6.0 and nota < 7.5:\n",
        "  print(f'C - { nota}')\n",
        "  print('APROVADO')\n",
        "elif nota >=4.0 and nota < 6.0:\n",
        "  print(f'D - {nota}' )\n",
        "  print('REPROVADO')\n",
        "elif nota >=0 and nota <4:\n",
        "  print(f'E - {nota}')\n",
        "  print('REPROVADO')"
      ],
      "execution_count": null,
      "outputs": [
        {
          "output_type": "stream",
          "name": "stdout",
          "text": [
            "D - 4.8\n",
            "REPROVADO\n"
          ]
        }
      ]
    },
    {
      "cell_type": "markdown",
      "metadata": {
        "id": "Nfyj-J7aHkCm"
      },
      "source": [
        "#**15 - Faça um Programa que peça os 3 lados de um triângulo. O programa deverá informar se os valores podem ser um triângulo. Indique, caso os lados formem um triângulo, se o mesmo é: equilátero, isósceles ou escaleno**"
      ]
    },
    {
      "cell_type": "markdown",
      "metadata": {
        "id": "6xZcdMZRH2G7"
      },
      "source": [
        "- Três lados formam um triângulo quando a soma de quaisquer dois lados for maior que o terceiro;\n",
        "- Triângulo Equilátero: três lados iguais;\n",
        "- Triângulo Isósceles: quaisquer dois lados iguais;\n",
        "- Triângulo Escaleno: três lados diferentes;"
      ]
    },
    {
      "cell_type": "code",
      "metadata": {
        "id": "5MzWsETUH6y1",
        "colab": {
          "base_uri": "https://localhost:8080/"
        },
        "outputId": "537c1154-6ead-4d5e-a5a3-052c8d06e1d9"
      },
      "source": [
        "l1 = float(input(\"Informe o valor do primeiro lado: \"))\n",
        "l2 = float(input(\"Informe o valor do segundo lado: \"))\n",
        "l3 = float(input(\"Informe o valor do terceiro lado: \"))"
      ],
      "execution_count": null,
      "outputs": [
        {
          "name": "stdout",
          "output_type": "stream",
          "text": [
            "Informe o valor do primeiro lado: 3.6\n",
            "Informe o valor do segundo lado: 4.5\n",
            "Informe o valor do terceiro lado: 5.8\n"
          ]
        }
      ]
    },
    {
      "cell_type": "code",
      "metadata": {
        "id": "EdZgfr74aK25"
      },
      "source": [
        "if (l1 + l2) < l3 or (l2 + l3 ) < l1 or (l1 + l3) < l2:\n",
        "  print('Não é um triângulo')"
      ],
      "execution_count": null,
      "outputs": []
    },
    {
      "cell_type": "code",
      "metadata": {
        "colab": {
          "base_uri": "https://localhost:8080/"
        },
        "id": "kFlRNJQRbq77",
        "outputId": "84a54012-0484-401d-b23c-ec2ad8e03b46"
      },
      "source": [
        "if (l1==l2 and l1 == l3 or l2==l1 and l2==l1 or l3==l1 and l3==l2):\n",
        "  print('Triângulo Equilátero')\n",
        "if (l1==l2 or l1 == l3 or l2==l1 or l2==l1 or l3==l1 or l3==l2):\n",
        "  print('Triângulo Isósceles')\n",
        "if (l1!=l2 and l1 != l3 or l2!=l1 and l2!=l1 or l3!=l1 and l3!=l2):\n",
        "  print('Triângulo Escaleno')"
      ],
      "execution_count": null,
      "outputs": [
        {
          "output_type": "stream",
          "name": "stdout",
          "text": [
            "Triângulo Escaleno\n"
          ]
        }
      ]
    },
    {
      "cell_type": "markdown",
      "metadata": {
        "id": "Yq_M3sbFce1v"
      },
      "source": [
        "#**16 - Faça um programa que calcule as raízes de uma equação do segundo grau, na forma ax2 + bx + c. O programa deverá pedir os valores de a, b e c e fazer as consistências, informando ao usuário nas seguintes situações:**"
      ]
    },
    {
      "cell_type": "markdown",
      "metadata": {
        "id": "9X3BHZceck-W"
      },
      "source": [
        "- Se o usuário informar o valor de A igual a zero, a equação não é do segundo grau e o programa não deve fazer pedir os demais valores, sendo encerrado;\n",
        "- Se o delta calculado for negativo, a equação não possui raizes reais. Informe ao usuário e encerre o programa;\n",
        "- Se o delta calculado for igual a zero a equação possui apenas uma raiz real; informe-a ao usuário;\n",
        "- Se o delta for positivo, a equação possui duas raiz reais; informe-as ao usuário;"
      ]
    },
    {
      "cell_type": "code",
      "metadata": {
        "id": "4Azez6AFevtk"
      },
      "source": [
        "import sys\n",
        "import math"
      ],
      "execution_count": null,
      "outputs": []
    },
    {
      "cell_type": "code",
      "metadata": {
        "colab": {
          "base_uri": "https://localhost:8080/"
        },
        "id": "hcjktUsccrce",
        "outputId": "9b3b92e3-cd9a-412e-9dc1-e7c20f7a8a52"
      },
      "source": [
        "a = float(input(\"Informe o lado A: \"))\n",
        "if a==0:\n",
        "  print(\"Equação não é de segundo grau:\")\n",
        "  sys.exit()\n",
        "b = float(input(\"Informe o lado B: \"))\n",
        "c = float(input(\"Informe o lado C: \"))"
      ],
      "execution_count": null,
      "outputs": [
        {
          "name": "stdout",
          "output_type": "stream",
          "text": [
            "Informe o lado A: 8\n",
            "Informe o lado B: -36\n",
            "Informe o lado C: 4\n"
          ]
        }
      ]
    },
    {
      "cell_type": "code",
      "metadata": {
        "id": "2CTcBv6ldvCB"
      },
      "source": [
        "delta = (b*b) - (4*a*c)"
      ],
      "execution_count": null,
      "outputs": []
    },
    {
      "cell_type": "code",
      "metadata": {
        "colab": {
          "base_uri": "https://localhost:8080/"
        },
        "id": "_GFqpRXClE4p",
        "outputId": "181eb910-bdae-48be-a18b-b84e0e59677d"
      },
      "source": [
        "print(delta)"
      ],
      "execution_count": null,
      "outputs": [
        {
          "output_type": "stream",
          "name": "stdout",
          "text": [
            "1168.0\n"
          ]
        }
      ]
    },
    {
      "cell_type": "code",
      "metadata": {
        "colab": {
          "base_uri": "https://localhost:8080/"
        },
        "id": "Y_OxeCLehO6n",
        "outputId": "10d5cc2b-7673-4957-d343-22c20fa0eedb"
      },
      "source": [
        "if (delta < 0 ):\n",
        "  print(\"Não há raizes reais:\")\n",
        "  sys.exit()\n",
        "elif (delta == 0):\n",
        "  raiz = (-b) / (2*a)\n",
        "  print(f\"Há somente uma raiz que é {raiz}\")\n",
        "\n",
        "else:\n",
        "  raiz1 = (-b + math.sqrt(delta)) / (2*a)\n",
        "  raiz2 = (-b - math.sqrt(delta)) / (2*a)\n",
        "\n",
        "  print(f\"A primeira raiz é {round(raiz1, 3)}\")\n",
        "  print(f\"A segunda raiz é {round(raiz2, 3)}\")\n"
      ],
      "execution_count": null,
      "outputs": [
        {
          "output_type": "stream",
          "name": "stdout",
          "text": [
            "A primeira raiz é 4.386\n",
            "A segunda raiz é 0.114\n"
          ]
        }
      ]
    },
    {
      "cell_type": "markdown",
      "metadata": {
        "id": "ydxbzpGfcjRJ"
      },
      "source": [
        "#**17 - Faça um Programa que peça um número correspondente a um determinado ano e em seguida informe se este ano é ou não bissexto.**"
      ]
    },
    {
      "cell_type": "code",
      "metadata": {
        "colab": {
          "base_uri": "https://localhost:8080/"
        },
        "id": "HtcUSmtFcpGx",
        "outputId": "6ff44361-2678-4c65-97e0-018ecbc6eb0a"
      },
      "source": [
        "a = int(input(\"Informe o ano: \"))"
      ],
      "execution_count": 11,
      "outputs": [
        {
          "name": "stdout",
          "output_type": "stream",
          "text": [
            "Informe o ano: 2028\n"
          ]
        }
      ]
    },
    {
      "cell_type": "code",
      "metadata": {
        "colab": {
          "base_uri": "https://localhost:8080/"
        },
        "id": "mWN6IZ1rdikn",
        "outputId": "517051f0-741f-4fab-9091-3f944bd648e5"
      },
      "source": [
        "if (a%4==0):\n",
        "  print(\"Ano é bissexto\")\n",
        "\n",
        "else:\n",
        "  print(\"Ano não é bissexto\")"
      ],
      "execution_count": 12,
      "outputs": [
        {
          "output_type": "stream",
          "name": "stdout",
          "text": [
            "Ano é bissexto\n"
          ]
        }
      ]
    },
    {
      "cell_type": "markdown",
      "metadata": {
        "id": "MI84FNMcd4AH"
      },
      "source": [
        "#**18 - Faça um Programa que peça uma data no formato dd/mm/aaaa e determine se a mesma é uma data válida.**"
      ]
    },
    {
      "cell_type": "code",
      "metadata": {
        "colab": {
          "base_uri": "https://localhost:8080/"
        },
        "id": "cFBZ7tn-d7gu",
        "outputId": "f3fd3fb1-3890-4a97-dcb2-7ca85572e2a1"
      },
      "source": [
        "dia = int(input(\"Informe o dia: dd: \"))\n",
        "mes = int(input(\"Informe o mês: mm: \"))\n",
        "ano = int(input(\"Informe o dia: aaaa: \"))"
      ],
      "execution_count": 16,
      "outputs": [
        {
          "name": "stdout",
          "output_type": "stream",
          "text": [
            "Informe o dia: dd: 35\n",
            "Informe o mês: mm: 11\n",
            "Informe o dia: aaaa: 1998\n"
          ]
        }
      ]
    },
    {
      "cell_type": "code",
      "metadata": {
        "colab": {
          "base_uri": "https://localhost:8080/"
        },
        "id": "PETiB8_5edC_",
        "outputId": "67be6f73-0431-4983-8b17-e1ee27de8c98"
      },
      "source": [
        "if (dia > 31) or (mes>12):\n",
        "  print(\"Data incorreta\")\n",
        "else:\n",
        "  print(f\"{dia}/{mes}/{ano}\")"
      ],
      "execution_count": 17,
      "outputs": [
        {
          "output_type": "stream",
          "name": "stdout",
          "text": [
            "Data incorreta\n"
          ]
        }
      ]
    },
    {
      "cell_type": "markdown",
      "metadata": {
        "id": "uuAEPMIbf8B-"
      },
      "source": [
        "#**19 - Faça um Programa que leia um número inteiro menor que 1000 e imprima a quantidade de centenas, dezenas e unidades do mesmo**"
      ]
    },
    {
      "cell_type": "markdown",
      "metadata": {
        "id": "M08GgOTIgLN0"
      },
      "source": [
        "Observando os termos no plural a colocação do \"e\", da vírgula entre outros. Exemplo:\n",
        "- 326 = 3 centenas, 2 dezenas e 6 unidades\n",
        "- 12 = 1 dezena e 2 unidades Testar com: 326, 300, 100, 320, 310,305, 301, 101, 311, 111, 25, 20, 10, 21, 11, 1, 7 e 16"
      ]
    },
    {
      "cell_type": "code",
      "metadata": {
        "id": "UMkiIASpjFlB"
      },
      "source": [
        "import sys"
      ],
      "execution_count": 45,
      "outputs": []
    },
    {
      "cell_type": "code",
      "metadata": {
        "colab": {
          "base_uri": "https://localhost:8080/"
        },
        "id": "cJtag62dgOa0",
        "outputId": "fe5c8610-dde2-4b4f-bf61-3afe46b647d8"
      },
      "source": [
        "n = int(input(\"Informe um número inteiro menor que 1000: \"))\n",
        "if n > 1000:\n",
        "  print(\"Valor incorreto:\")"
      ],
      "execution_count": 51,
      "outputs": [
        {
          "name": "stdout",
          "output_type": "stream",
          "text": [
            "Informe um número inteiro menor que 1000: 12\n"
          ]
        }
      ]
    },
    {
      "cell_type": "code",
      "metadata": {
        "id": "cm_w9DYRhFBj"
      },
      "source": [
        "centena = 0\n",
        "dezena = 0\n",
        "unidade = 0"
      ],
      "execution_count": 52,
      "outputs": []
    },
    {
      "cell_type": "code",
      "metadata": {
        "id": "rfnZ2_6ggqjc"
      },
      "source": [
        "while (n>=100):\n",
        "       n -= 100\n",
        "       centena += 1\n",
        "\n",
        "while (n<=99 and n >= 10):\n",
        "       n -= 10\n",
        "       dezena += 1\n",
        "while (n<=9 and n > 0):\n",
        "      n -= 1\n",
        "      unidade += 1\n"
      ],
      "execution_count": 53,
      "outputs": []
    },
    {
      "cell_type": "code",
      "metadata": {
        "colab": {
          "base_uri": "https://localhost:8080/"
        },
        "id": "t4iHbdeTjoIy",
        "outputId": "cc0fe6d5-cede-4ba8-a347-79d4a10a6228"
      },
      "source": [
        "print(f\"{centena} - centenas, {dezena} - Dezenas, {unidade} - Unidades\")"
      ],
      "execution_count": 55,
      "outputs": [
        {
          "output_type": "stream",
          "name": "stdout",
          "text": [
            "0 - centenas, 1 - Dezenas, 2 - Unicdades\n"
          ]
        }
      ]
    },
    {
      "cell_type": "markdown",
      "metadata": {
        "id": "WnMyb5f_o7mT"
      },
      "source": [
        "#**20 - Faça um Programa para leitura de três notas parciais de um aluno. O programa deve calcular a média alcançada por aluno e presentar:**"
      ]
    },
    {
      "cell_type": "markdown",
      "metadata": {
        "id": "cuCXiPHPo_sK"
      },
      "source": [
        "- A mensagem \"Aprovado\", se a média for maior ou igual a 7, com a respectiva média alcançada;\n",
        "- A mensagem \"Reprovado\", se a média for menor do que 7, com a respectiva média alcançada;\n",
        "- A mensagem \"Aprovado com Distinção\", se a média for igual a 10."
      ]
    },
    {
      "cell_type": "code",
      "metadata": {
        "colab": {
          "base_uri": "https://localhost:8080/"
        },
        "id": "ai46Z5vOo-Bj",
        "outputId": "0dd7fb71-6bd2-4168-f8bc-479737cec021"
      },
      "source": [
        "n1 = float(input(\"Informe a primeira nota: \"))\n",
        "n2 = float(input(\"Informe a segunda nota: \"))\n",
        "n3 = float(input(\"Informe a terceira nota: \"))"
      ],
      "execution_count": 59,
      "outputs": [
        {
          "name": "stdout",
          "output_type": "stream",
          "text": [
            "Informe a primeira nota: 7\n",
            "Informe a segunda nota: 7\n",
            "Informe a terceira nota: 6\n"
          ]
        }
      ]
    },
    {
      "cell_type": "code",
      "metadata": {
        "id": "qexcZyV0pQAq"
      },
      "source": [
        "nota = (n1+n2+n3)/3\n",
        "nota = round(nota, 2)"
      ],
      "execution_count": 60,
      "outputs": []
    },
    {
      "cell_type": "code",
      "metadata": {
        "colab": {
          "base_uri": "https://localhost:8080/"
        },
        "id": "qMStgPV-pbQy",
        "outputId": "5216f756-6ab1-4115-ecdb-563b18492e37"
      },
      "source": [
        "if nota == 10:\n",
        "  print(\"Aprovado com Distinção\")\n",
        "  print(f\"Nota final {nota}\")\n",
        "elif nota >= 7.0:\n",
        "  print(\"Aprovado\")\n",
        "  print(f\"Nota final {nota}\")\n",
        "elif nota < 7:\n",
        "  print(\"Reprovado\")\n",
        "  print(f\"Nota final {nota}\")"
      ],
      "execution_count": 62,
      "outputs": [
        {
          "output_type": "stream",
          "name": "stdout",
          "text": [
            "Reprovado\n",
            "Nota final 6.67\n"
          ]
        }
      ]
    },
    {
      "cell_type": "markdown",
      "metadata": {
        "id": "PBxVab5sp7iK"
      },
      "source": [
        "#**21 - Faça um Programa para um caixa eletrônico. O programa deverá perguntar ao usuário a valor do saque e depois informar quantas notas de cada valor serão fornecidas. As notas disponíveis serão as de 1, 5, 10, 50 e 100 reais. O valor mínimo é de 10 reais e o máximo de 600 reais. O programa não deve se preocupar com a quantidade de notas existentes na máquina.**"
      ]
    },
    {
      "cell_type": "markdown",
      "metadata": {
        "id": "ss5ieVQRp_Wy"
      },
      "source": [
        "- Exemplo 1: Para sacar a quantia de 256 reais, o programa fornece duas notas de 100, uma nota de 50, uma nota de 5 e uma nota de 1;\n",
        "- Exemplo 2: Para sacar a quantia de 399 reais, o programa fornece três notas de 100, uma nota de 50, quatro notas de 10, uma nota de 5 e quatro notas de 1."
      ]
    },
    {
      "cell_type": "code",
      "metadata": {
        "colab": {
          "base_uri": "https://localhost:8080/"
        },
        "id": "v23kFxcAqCez",
        "outputId": "0dff90b0-9735-4f10-98bd-09151ff9b149"
      },
      "source": [
        "a = int(input(\"Informe o valor a ser sacado: R$ \"))\n",
        "if a < 10 or a > 600:\n",
        "  print(\"Saque não permitido para o valor!\")\n"
      ],
      "execution_count": 67,
      "outputs": [
        {
          "name": "stdout",
          "output_type": "stream",
          "text": [
            "Informe o valor a ser sacado: R$ 399\n"
          ]
        }
      ]
    },
    {
      "cell_type": "code",
      "metadata": {
        "id": "tJee7e8Uq3-J"
      },
      "source": [
        "um = 0\n",
        "cinco = 0\n",
        "dez = 0\n",
        "cinque = 0\n",
        "cem = 0"
      ],
      "execution_count": 70,
      "outputs": []
    },
    {
      "cell_type": "code",
      "metadata": {
        "id": "l07iuVXaqx2i"
      },
      "source": [
        "while a >= 100:\n",
        "  a -= 100\n",
        "  cem += 1\n",
        "while a >=50:\n",
        "  a -= 50\n",
        "  cinque += 1\n",
        "while a >= 10:\n",
        "  a -= 10\n",
        "  dez += 1\n",
        "while a >=5:\n",
        "  a -= 5\n",
        "  cinco += 1\n",
        "while a > 0:\n",
        "  a -= 1\n",
        "  um += 1"
      ],
      "execution_count": 72,
      "outputs": []
    },
    {
      "cell_type": "code",
      "metadata": {
        "colab": {
          "base_uri": "https://localhost:8080/"
        },
        "id": "mKAKjj6ZrxUI",
        "outputId": "7f139995-5a06-4740-ddf6-0998605bbb7c"
      },
      "source": [
        "print(f\"{cem} notas de 100 \\n{cinque} notas de cinquenta \\n{dez} notas de dez \\n{cinco} nota de cinco \\n{um} nota de um\")"
      ],
      "execution_count": 73,
      "outputs": [
        {
          "output_type": "stream",
          "name": "stdout",
          "text": [
            "3 notas de 100 \n",
            "1 notas de cinquenta \n",
            "4 notas de dez \n",
            "1 nota de cinco \n",
            "4 nota de um\n"
          ]
        }
      ]
    },
    {
      "cell_type": "markdown",
      "metadata": {
        "id": "Q7IPv5yTsnKo"
      },
      "source": [
        "#**22 - Faça um Programa que peça um número inteiro e determine se ele é par ou impar. Dica: utilize o operador módulo (resto da divisão).**"
      ]
    },
    {
      "cell_type": "code",
      "metadata": {
        "colab": {
          "base_uri": "https://localhost:8080/"
        },
        "id": "5y6z3v67s9AE",
        "outputId": "d5647b27-7139-4997-a206-4094b11c2a66"
      },
      "source": [
        "a = int(input(\"Informe um número inteiro: \"))\n",
        "if a == 0:\n",
        "  print(\"Número invalido\")"
      ],
      "execution_count": 76,
      "outputs": [
        {
          "name": "stdout",
          "output_type": "stream",
          "text": [
            "Informe um número inteiro: 2\n"
          ]
        }
      ]
    },
    {
      "cell_type": "code",
      "metadata": {
        "colab": {
          "base_uri": "https://localhost:8080/"
        },
        "id": "brw_7QSftHfw",
        "outputId": "3f0db139-9fd0-4752-e740-78ecea53c7d5"
      },
      "source": [
        "if (a%2==0):\n",
        "  print(\"O número é par\")\n",
        "else:\n",
        "  print(\"O número é ímpar\")"
      ],
      "execution_count": 77,
      "outputs": [
        {
          "output_type": "stream",
          "name": "stdout",
          "text": [
            "O número é par\n"
          ]
        }
      ]
    },
    {
      "cell_type": "markdown",
      "metadata": {
        "id": "ifpEZF7JtTgn"
      },
      "source": [
        "\n",
        "#**23 - Faça um Programa que peça um número e informe se o número é inteiro ou decimal. Dica: utilize uma função de arredondamento.**\n",
        "\n"
      ]
    },
    {
      "cell_type": "code",
      "metadata": {
        "id": "vtBJA5k0t1Bu"
      },
      "source": [
        "import math"
      ],
      "execution_count": 78,
      "outputs": []
    },
    {
      "cell_type": "code",
      "metadata": {
        "colab": {
          "base_uri": "https://localhost:8080/"
        },
        "id": "KLFLsBqytvsf",
        "outputId": "927b91f7-8735-409b-b4a7-f61671e4909f"
      },
      "source": [
        "a = float(input(\"Informe um número: \"))\n",
        "b = math.floor(a)"
      ],
      "execution_count": 89,
      "outputs": [
        {
          "name": "stdout",
          "output_type": "stream",
          "text": [
            "Informe um número36\n"
          ]
        }
      ]
    },
    {
      "cell_type": "code",
      "metadata": {
        "colab": {
          "base_uri": "https://localhost:8080/"
        },
        "id": "PoX8wNf3uWV9",
        "outputId": "09ddf83c-1e5c-45dc-f04b-61955364260a"
      },
      "source": [
        "if a == b:\n",
        "    print(\"Número é inteiro\")\n",
        "else:\n",
        "    print(\"Número é decimal\")\n"
      ],
      "execution_count": 90,
      "outputs": [
        {
          "output_type": "stream",
          "name": "stdout",
          "text": [
            "Número é inteiro\n"
          ]
        }
      ]
    },
    {
      "cell_type": "markdown",
      "metadata": {
        "id": "Ywpx_NCRuz1e"
      },
      "source": [
        "#**24 - Faça um Programa que leia 2 números e em seguida pergunte ao usuário qual operação ele deseja realizar. O resultado da operação deve ser acompanhado de uma frase que diga se o número é:**"
      ]
    },
    {
      "cell_type": "code",
      "metadata": {
        "id": "OTd99s8f1ZgH"
      },
      "source": [
        "import math"
      ],
      "execution_count": null,
      "outputs": []
    },
    {
      "cell_type": "code",
      "metadata": {
        "colab": {
          "base_uri": "https://localhost:8080/"
        },
        "id": "VJ61fJUDu9hV",
        "outputId": "e99483f8-23cb-437c-ab5d-e4df49091bef"
      },
      "source": [
        "a = float(input(\"informe o primeiro número: \"))\n",
        "b = float(input(\"informe o segundo número: \"))"
      ],
      "execution_count": 128,
      "outputs": [
        {
          "name": "stdout",
          "output_type": "stream",
          "text": [
            "informe o primeiro número: 6\n",
            "informe o segundo número: -1\n"
          ]
        }
      ]
    },
    {
      "cell_type": "code",
      "metadata": {
        "colab": {
          "base_uri": "https://localhost:8080/"
        },
        "id": "U61ohCJ2vVaF",
        "outputId": "8c08ea0b-24cd-45ad-e6f1-b8d4ba6000d1"
      },
      "source": [
        " n = int(input(\"-------------------------\\nAgora Informe a operação que deseja\\n1 - par ou impar: \\n2 - Positivo ou negativo \\n3 - inteiro ou decimal\\n-------------------------\\n\"))"
      ],
      "execution_count": 134,
      "outputs": [
        {
          "name": "stdout",
          "output_type": "stream",
          "text": [
            "-------------------------\n",
            "Agora Informe a operação que deseja\n",
            "1 - par ou impar: \n",
            "2 - Positivo ou negativo \n",
            "3 - inteiro ou decimal\n",
            "-------------------------\n",
            "3\n"
          ]
        }
      ]
    },
    {
      "cell_type": "code",
      "metadata": {
        "id": "EqwPy278v26B"
      },
      "source": [
        "if (n == 1):\n",
        "    if (a % 2 == 0):\n",
        "        A = 'Par'\n",
        "    elif (a %2 != 0):\n",
        "          A = 'Impar'\n",
        "    \n",
        "    if (b%2 == 0):\n",
        "        B = 'Par'\n",
        "    elif (b%2 !=0):\n",
        "          B = 'Impar'\n",
        "\n",
        "\n",
        "if (n==2):\n",
        "  if a > 0:\n",
        "    A = 'Positivo'\n",
        "  elif (a < 0):\n",
        "    A = 'Negativo'\n",
        "  elif (a == 0):\n",
        "    A = 'Zero'\n",
        "\n",
        "  if (b > 0):\n",
        "    B = 'Positvo'\n",
        "  elif(b < 0):\n",
        "    B = 'Negativo'\n",
        "  elif (b == 0):\n",
        "    B = 'Zero'\n",
        "\n",
        "if (n == 3):\n",
        "  if a == math.floor(a):\n",
        "    A = 'Inteiro'\n",
        "  elif a != math.floor(a):\n",
        "    A = 'Decimal'\n",
        "\n",
        "  if b == math.floor(b):\n",
        "    B = 'Inteiro'\n",
        "  elif b != math.floor:\n",
        "    B = 'Decimal'\n",
        "\n",
        "      \n",
        "    \n"
      ],
      "execution_count": 135,
      "outputs": []
    },
    {
      "cell_type": "code",
      "metadata": {
        "colab": {
          "base_uri": "https://localhost:8080/"
        },
        "id": "doko1ygK15Vz",
        "outputId": "98edb4aa-b9aa-4d3d-9926-1bb56a6fe7eb"
      },
      "source": [
        "print(f'{a} é {A}\\n{b} é {B}')"
      ],
      "execution_count": 136,
      "outputs": [
        {
          "output_type": "stream",
          "name": "stdout",
          "text": [
            "6.0 é Inteiro\n",
            "-1.0 é Inteiro\n"
          ]
        }
      ]
    },
    {
      "cell_type": "markdown",
      "metadata": {
        "id": "uql-qiwE5RLd"
      },
      "source": [
        "#**25 - Faça um programa que faça 5 perguntas para uma pessoa sobre um crime. As perguntas são:**"
      ]
    },
    {
      "cell_type": "markdown",
      "metadata": {
        "id": "fTDfMFNX5p3q"
      },
      "source": [
        "- \"Telefonou para a vítima?\"\n",
        "- \"Esteve no local do crime?\"\n",
        "- \"Mora perto da vítima?\"\n",
        "- \"Devia para a vítima?\"\n",
        "- \"Já trabalhou com a vítima?\""
      ]
    },
    {
      "cell_type": "markdown",
      "metadata": {
        "id": "Z-7GvxJi5wQa"
      },
      "source": [
        "O programa deve no final emitir uma classificação sobre a participação da pessoa no crime. Se a pessoa responder positivamente a 2 questões ela deve ser classificada como \"Suspeita\", entre 3 e 4 como \"Cúmplice\" e 5 como \"Assassino\". Caso contrário, ele será classificado como \"Inocente\"."
      ]
    },
    {
      "cell_type": "code",
      "metadata": {
        "id": "18Yn4MFA5ymG"
      },
      "source": [
        ""
      ],
      "execution_count": null,
      "outputs": []
    }
  ]
}
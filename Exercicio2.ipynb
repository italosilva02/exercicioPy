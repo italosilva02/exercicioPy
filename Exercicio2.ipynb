{
  "nbformat": 4,
  "nbformat_minor": 0,
  "metadata": {
    "colab": {
      "name": "Exercicio2.ipynb",
      "provenance": [],
      "collapsed_sections": [],
      "authorship_tag": "ABX9TyPNlK+tzIJxNIbGJQX57Isi",
      "include_colab_link": true
    },
    "kernelspec": {
      "name": "python3",
      "display_name": "Python 3"
    },
    "language_info": {
      "name": "python"
    }
  },
  "cells": [
    {
      "cell_type": "markdown",
      "metadata": {
        "id": "view-in-github",
        "colab_type": "text"
      },
      "source": [
        "<a href=\"https://colab.research.google.com/github/italosilva02/exercicioPy/blob/main/Exercicio2.ipynb\" target=\"_parent\"><img src=\"https://colab.research.google.com/assets/colab-badge.svg\" alt=\"Open In Colab\"/></a>"
      ]
    },
    {
      "cell_type": "markdown",
      "metadata": {
        "id": "Qls8D93xMoAL"
      },
      "source": [
        "#**Estrutura De Decisão**\n",
        "-------------------------------------------------------------------------------"
      ]
    },
    {
      "cell_type": "markdown",
      "metadata": {
        "id": "QKsK72XlNDk6"
      },
      "source": [
        "#**1 - Faça um Programa que peça dois números e imprima o maior deles.**"
      ]
    },
    {
      "cell_type": "code",
      "metadata": {
        "colab": {
          "base_uri": "https://localhost:8080/"
        },
        "id": "-fEoEldUNHyi",
        "outputId": "1c7e89b7-71e2-4ae1-db10-9137fc776935"
      },
      "source": [
        "a = float(input('Informe o primeiro número: '))\n",
        "b = float(input('Informe o segundo número: '))"
      ],
      "execution_count": 4,
      "outputs": [
        {
          "name": "stdout",
          "output_type": "stream",
          "text": [
            "Informe o primeiro número: 3\n",
            "Informe o segundo número: 5\n"
          ]
        }
      ]
    },
    {
      "cell_type": "code",
      "metadata": {
        "colab": {
          "base_uri": "https://localhost:8080/"
        },
        "id": "d6Ybfph2Q9sO",
        "outputId": "2faafa23-5776-4975-d615-991847cf312e"
      },
      "source": [
        "if a > b: \n",
        "  print(f'O valor {a} é maior que {b}')\n",
        "else: \n",
        "  print(f'O valor {b} é maior que o valor {a}')"
      ],
      "execution_count": 5,
      "outputs": [
        {
          "output_type": "stream",
          "name": "stdout",
          "text": [
            "O valor 5.0 é maior que o valor 3.0\n"
          ]
        }
      ]
    },
    {
      "cell_type": "markdown",
      "metadata": {
        "id": "4hoDnaMbRd4c"
      },
      "source": [
        "#**2 - Faça um Programa que peça um valor e mostre na tela se o valor é positivo ou negativo.**"
      ]
    },
    {
      "cell_type": "code",
      "metadata": {
        "colab": {
          "base_uri": "https://localhost:8080/"
        },
        "id": "Rg97vszrRh49",
        "outputId": "a87945f6-54ee-4709-f242-c7b29db8e55d"
      },
      "source": [
        "a = float(input('Informe um valor: '))"
      ],
      "execution_count": 10,
      "outputs": [
        {
          "name": "stdout",
          "output_type": "stream",
          "text": [
            "Informe um valor: 2\n"
          ]
        }
      ]
    },
    {
      "cell_type": "code",
      "metadata": {
        "colab": {
          "base_uri": "https://localhost:8080/"
        },
        "id": "Zy9LzvNDRmrN",
        "outputId": "2a38b712-fb0d-43c4-e56a-7e9d91cb7a6f"
      },
      "source": [
        "if a % 2 == 0:\n",
        "  print(f'{a} é um valor par')\n",
        "else:\n",
        "  print(f'{a} é um valor ímpar')"
      ],
      "execution_count": 11,
      "outputs": [
        {
          "output_type": "stream",
          "name": "stdout",
          "text": [
            "2.0 é um valor par\n"
          ]
        }
      ]
    },
    {
      "cell_type": "markdown",
      "metadata": {
        "id": "uynmwLX4R899"
      },
      "source": [
        "#**3 - Faça um Programa que verifique se uma letra digitada é \"F\" ou \"M\". Conforme a letra escrever: F - Feminino, M - Masculino, Sexo Inválido.**"
      ]
    },
    {
      "cell_type": "code",
      "metadata": {
        "colab": {
          "base_uri": "https://localhost:8080/"
        },
        "id": "Ut6i1R7VSAxU",
        "outputId": "b07b0211-9419-4bbc-c5f9-a47ce4faf081"
      },
      "source": [
        "sexo = input('Informe seu sexo (F/M:) ')"
      ],
      "execution_count": 1,
      "outputs": [
        {
          "name": "stdout",
          "output_type": "stream",
          "text": [
            "Informe seu sexo (F/M:) m\n"
          ]
        }
      ]
    },
    {
      "cell_type": "code",
      "metadata": {
        "colab": {
          "base_uri": "https://localhost:8080/"
        },
        "id": "5b3tPrPTSMlk",
        "outputId": "aa66e22f-37b8-4329-d2c8-64e659667ff9"
      },
      "source": [
        "if sexo == 'F' or sexo == 'f':\n",
        "  print('Sexo Feminino')\n",
        "elif sexo == 'M' or sexo == 'm':\n",
        "  print('Sexo Masculino')\n",
        "else: \n",
        "  print('valor Inválido')"
      ],
      "execution_count": 2,
      "outputs": [
        {
          "output_type": "stream",
          "name": "stdout",
          "text": [
            "Sexo Masculino\n"
          ]
        }
      ]
    },
    {
      "cell_type": "markdown",
      "metadata": {
        "id": "a0ulVm88SvcU"
      },
      "source": [
        "#**4 - Faça um Programa que verifique se uma letra digitada é vogal ou consoante.**"
      ]
    },
    {
      "cell_type": "code",
      "metadata": {
        "colab": {
          "base_uri": "https://localhost:8080/"
        },
        "id": "71d2BJrWS2PD",
        "outputId": "8f446a7e-79cc-45d6-8517-2cb4d474f1d0"
      },
      "source": [
        "l = input('Informe uma letra: ')"
      ],
      "execution_count": 19,
      "outputs": [
        {
          "name": "stdout",
          "output_type": "stream",
          "text": [
            "Informe uma letra: L\n"
          ]
        }
      ]
    },
    {
      "cell_type": "code",
      "metadata": {
        "id": "3J_bHQWYTLjj"
      },
      "source": [
        "l = l.lower()"
      ],
      "execution_count": 20,
      "outputs": []
    },
    {
      "cell_type": "code",
      "metadata": {
        "colab": {
          "base_uri": "https://localhost:8080/"
        },
        "id": "zvXz_oUtTzey",
        "outputId": "baa207e3-18b3-49cb-a916-c75862fcabbc"
      },
      "source": [
        "print(l)"
      ],
      "execution_count": 21,
      "outputs": [
        {
          "output_type": "stream",
          "name": "stdout",
          "text": [
            "l\n"
          ]
        }
      ]
    },
    {
      "cell_type": "code",
      "metadata": {
        "colab": {
          "base_uri": "https://localhost:8080/"
        },
        "id": "-hoHucktTBnD",
        "outputId": "c7f65fd8-08b9-4362-e249-6491fcb3ac6a"
      },
      "source": [
        "if l == 'a' or l == 'e' or l == 'i' or l == 'o' or l == 'u':\n",
        "  print('A letra é uma vogal')\n",
        "else: \n",
        "  print('A letra é uma consoante')"
      ],
      "execution_count": 23,
      "outputs": [
        {
          "output_type": "stream",
          "name": "stdout",
          "text": [
            "A letra é uma consoante\n"
          ]
        }
      ]
    },
    {
      "cell_type": "markdown",
      "metadata": {
        "id": "CB_yaN3YUl5Z"
      },
      "source": [
        "#**5 - Faça um programa para a leitura de duas notas parciais de um aluno. O programa deve calcular a média alcançada por aluno e apresentar:**\n",
        "- A mensagem \"Aprovado\", se a média alcançada for maior ou igual a sete;\n",
        "- A mensagem \"Reprovado\", se a média for menor do que sete;\n",
        "- A mensagem \"Aprovado com Distinção\", se a média for igual a dez."
      ]
    },
    {
      "cell_type": "code",
      "metadata": {
        "colab": {
          "base_uri": "https://localhost:8080/"
        },
        "id": "UPT5XT8CWQUx",
        "outputId": "3a97ed95-8c10-44d7-d20b-c8134ebbc44e"
      },
      "source": [
        "nome = input('Informe seu nome: ')\n",
        "nome = nome.capitalize()"
      ],
      "execution_count": 25,
      "outputs": [
        {
          "name": "stdout",
          "output_type": "stream",
          "text": [
            "Informe seu nome: italo\n"
          ]
        }
      ]
    },
    {
      "cell_type": "code",
      "metadata": {
        "colab": {
          "base_uri": "https://localhost:8080/"
        },
        "id": "0WdWebV7UqaM",
        "outputId": "03c4802d-3bc0-402c-cd0a-eecc82c290f5"
      },
      "source": [
        "n1 = float(input('Informe a primeira nota: '))\n",
        "n2 = float(input('Informe a segunda nota: '))\n",
        "n3 = float(input('Informe a terceira nota: '))"
      ],
      "execution_count": 34,
      "outputs": [
        {
          "name": "stdout",
          "output_type": "stream",
          "text": [
            "Informe a primeira nota: 7\n",
            "Informe a segunda nota: 7\n",
            "Informe a terceira nota: 7\n"
          ]
        }
      ]
    },
    {
      "cell_type": "code",
      "metadata": {
        "id": "M-C4NQk-WgQu"
      },
      "source": [
        "nota = (n1+n2+n3) / 3"
      ],
      "execution_count": 35,
      "outputs": []
    },
    {
      "cell_type": "code",
      "metadata": {
        "colab": {
          "base_uri": "https://localhost:8080/"
        },
        "id": "5abzcJlsWd9P",
        "outputId": "1e2aef41-9b32-4615-e299-259dee5773d4"
      },
      "source": [
        "if nota >= 7.0 and nota < 10.0:\n",
        "  print(f'{nome}, sua nota foi de {round(nota, 2)}')\n",
        "  print('APROVADO')\n",
        "elif nota == 10.0:\n",
        "  print(f'{nome}, sua nota foi de {round(nota, 2)}')\n",
        "  print('APROVADO COM DISTINÇÃO')\n",
        "elif nota < 7.0:\n",
        "  print(f'{nome}, sua nota foi de {round(nota, 2)}')\n",
        "  print('REPROVADO')"
      ],
      "execution_count": 36,
      "outputs": [
        {
          "output_type": "stream",
          "name": "stdout",
          "text": [
            "Italo, sua nota foi de 7.0\n",
            "APROVADO\n"
          ]
        }
      ]
    },
    {
      "cell_type": "markdown",
      "metadata": {
        "id": "rl94SdhWX2_l"
      },
      "source": [
        "#**6 - Faça um Programa que leia três números e mostre o maior deles.**"
      ]
    },
    {
      "cell_type": "code",
      "metadata": {
        "colab": {
          "base_uri": "https://localhost:8080/"
        },
        "id": "gt6dJ8n4Y80M",
        "outputId": "3bf117dd-7de9-466d-995a-03ad19e9ca11"
      },
      "source": [
        "n1 = float(input('Informe o primeiro número: '))\n",
        "n2 = float(input('Informe o segundo número: '))\n",
        "n3 = float(input('Informe o terceiro número: '))"
      ],
      "execution_count": 41,
      "outputs": [
        {
          "name": "stdout",
          "output_type": "stream",
          "text": [
            "Informe o primeiro número: 1\n",
            "Informe o segundo número: 2\n",
            "Informe o terceiro número: 3\n"
          ]
        }
      ]
    },
    {
      "cell_type": "code",
      "metadata": {
        "colab": {
          "base_uri": "https://localhost:8080/"
        },
        "id": "fuy7OiP2ZFTr",
        "outputId": "b903906c-d58e-44fa-d272-90373e034c44"
      },
      "source": [
        "if n1 > n2 and n1 > n3:\n",
        "  print(f'O maior número é o {n1}')\n",
        "elif n2 > n1 and n2 > n3:\n",
        "  print(f'O maior número é o {n2}')\n",
        "else:\n",
        "  print(f'O maior número é o {n3}')"
      ],
      "execution_count": 42,
      "outputs": [
        {
          "output_type": "stream",
          "name": "stdout",
          "text": [
            "O maior número é o 3.0\n"
          ]
        }
      ]
    },
    {
      "cell_type": "markdown",
      "metadata": {
        "id": "mai8o62DZqED"
      },
      "source": [
        "#**7 - Faça um Programa que leia três números e mostre o maior e o menor deles.**"
      ]
    },
    {
      "cell_type": "code",
      "metadata": {
        "colab": {
          "base_uri": "https://localhost:8080/"
        },
        "id": "54S6YnAJZsML",
        "outputId": "16ea9fc2-966c-4295-cca7-7a84a354e8be"
      },
      "source": [
        "n1 = float(input('Informe o primeiro número: '))\n",
        "n2 = float(input('Informe o segundo número: '))\n",
        "n3 = float(input('Informe o terceiro número: '))"
      ],
      "execution_count": 48,
      "outputs": [
        {
          "name": "stdout",
          "output_type": "stream",
          "text": [
            "Informe o primeiro número: 1.2\n",
            "Informe o segundo número: 5.2\n",
            "Informe o terceiro número: 6.1\n"
          ]
        }
      ]
    },
    {
      "cell_type": "code",
      "metadata": {
        "id": "-GYrCHhIZu32"
      },
      "source": [
        "if n1 > n2 and n1 > n3:\n",
        "  maior = n1\n",
        "elif n2 > n1 and n2 > n3:\n",
        "  maior = n2\n",
        "else:\n",
        "  maior = n3"
      ],
      "execution_count": 49,
      "outputs": []
    },
    {
      "cell_type": "code",
      "metadata": {
        "id": "928-8X_WaItU"
      },
      "source": [
        "if n1 < n2 and n1 < n3:\n",
        "  menor = n1\n",
        "elif n2 < n1 and n2 < n3:\n",
        "  menor = n2\n",
        "else:\n",
        "  menor = n3"
      ],
      "execution_count": 50,
      "outputs": []
    },
    {
      "cell_type": "code",
      "metadata": {
        "colab": {
          "base_uri": "https://localhost:8080/"
        },
        "id": "Wf0czhHdaQ5z",
        "outputId": "95d40665-d6e3-4253-909d-8792e8212ed8"
      },
      "source": [
        "print(f'Maior = {maior}')\n",
        "print(f'Menor = {menor}')"
      ],
      "execution_count": 51,
      "outputs": [
        {
          "output_type": "stream",
          "name": "stdout",
          "text": [
            "Maior = 6.1\n",
            "Menor = 1.2\n"
          ]
        }
      ]
    },
    {
      "cell_type": "markdown",
      "metadata": {
        "id": "GZMRE2-3aioq"
      },
      "source": [
        "#**8 - Faça um programa que pergunte o preço de três produtos e informe qual produto você deve comprar, sabendo que a decisão é sempre pelo mais barato.**"
      ]
    },
    {
      "cell_type": "code",
      "metadata": {
        "colab": {
          "base_uri": "https://localhost:8080/"
        },
        "id": "ENI_W2-gambi",
        "outputId": "00bc1157-57d2-4535-804a-426d170cfe2a"
      },
      "source": [
        "p1 = float(input('Informe o valor do primeiro produto: R$ '))\n",
        "p2 = float(input('Informe o valor do segundo produto: R$ '))\n",
        "p3 = float(input('Informe o valor do terceiro produto: R$ '))"
      ],
      "execution_count": 58,
      "outputs": [
        {
          "name": "stdout",
          "output_type": "stream",
          "text": [
            "Informe o valor do primeiro produto: R$ 6.85\n",
            "Informe o valor do segundo produto: R$ 1.50\n",
            "Informe o valor do terceiro produto: R$ 3.69\n"
          ]
        }
      ]
    },
    {
      "cell_type": "code",
      "metadata": {
        "colab": {
          "base_uri": "https://localhost:8080/"
        },
        "id": "WiV5MdT5bDU6",
        "outputId": "54d52165-2018-4c6d-a5af-77a228d95171"
      },
      "source": [
        "if p1 < p2 and p1 < p3:\n",
        "  print(f'O primeiro produto é o mais barato: valor: R$ {p1}')\n",
        "elif p2 < p1 and p2 < p3:\n",
        "  print(f'O segundo produto é o mais barato: valor: R$ {p2}')\n",
        "else:\n",
        "  print(f'O terceiro produto é o mais barato: valor: R$ {p3}')"
      ],
      "execution_count": 59,
      "outputs": [
        {
          "output_type": "stream",
          "name": "stdout",
          "text": [
            "O segundo produto é o mais barato: valor: R$ 1.5\n"
          ]
        }
      ]
    },
    {
      "cell_type": "markdown",
      "metadata": {
        "id": "sZSwfBhnbyQJ"
      },
      "source": [
        "\n",
        "#**9 - Faça um Programa que leia três números e mostre-os em ordem decrescente.**\n",
        "\n"
      ]
    },
    {
      "cell_type": "code",
      "metadata": {
        "colab": {
          "base_uri": "https://localhost:8080/"
        },
        "id": "obscGmFdh_7h",
        "outputId": "a5933237-1b82-4d4f-9d32-18917ebf0c9c"
      },
      "source": [
        "n1 = float(input('Informe o primeiro número: '))\n",
        "n2 = float(input('Informe o segundo número: '))\n",
        "n3 = float(input('Informe o terceiro número: '))"
      ],
      "execution_count": 70,
      "outputs": [
        {
          "name": "stdout",
          "output_type": "stream",
          "text": [
            "Informe o primeiro número: 1\n",
            "Informe o segundo número: 8\n",
            "Informe o terceiro número: 2\n"
          ]
        }
      ]
    },
    {
      "cell_type": "code",
      "metadata": {
        "colab": {
          "base_uri": "https://localhost:8080/"
        },
        "id": "pOyhIurqiLxI",
        "outputId": "12076234-d75f-49d1-8e56-0aed6a48d29b"
      },
      "source": [
        "if n1 > n2 and n1 > n3 and n2 > n3:\n",
        "  print(n1,n2,n3)\n",
        "elif n2 > n1 and n2 > n3 and n3 > n1:\n",
        "  print(n2,n3,n1)\n",
        "elif n2 > n1 and n2 > n3 and n1 > n2:\n",
        "  print(n2,n1,n3)\n",
        "elif n3 > n1 and n3 > n2 and n2 > n1:\n",
        "    print(n3,n2,n1)\n",
        "else:\n",
        "  print(n2,n1,n3)"
      ],
      "execution_count": 71,
      "outputs": [
        {
          "output_type": "stream",
          "name": "stdout",
          "text": [
            "8.0 2.0 1.0\n"
          ]
        }
      ]
    },
    {
      "cell_type": "markdown",
      "metadata": {
        "id": "RXC7bDETjGlX"
      },
      "source": [
        "#**10 - Faça um Programa que pergunte em que turno você estuda. Peça para digitar M-matutino ou V-Vespertino ou N- Noturno. Imprima a mensagem \"Bom Dia!\", \"Boa Tarde!\" ou \"Boa Noite!\" ou \"Valor Inválido!\", conforme o caso.**"
      ]
    },
    {
      "cell_type": "code",
      "metadata": {
        "colab": {
          "base_uri": "https://localhost:8080/"
        },
        "id": "CZ5IO3EdjLYA",
        "outputId": "c3cdcc6f-42bf-4803-d37a-234feb08a2c2"
      },
      "source": [
        "a = input(\"Informe o turno que você estuda: (M: Matutino/V: Verspertino/N: Norturno)\")\n",
        "a = a.upper()"
      ],
      "execution_count": 73,
      "outputs": [
        {
          "name": "stdout",
          "output_type": "stream",
          "text": [
            "Informe o turno que você estuda: (M: Matutino/V: Verspertino/N: Norturno)v\n"
          ]
        }
      ]
    },
    {
      "cell_type": "code",
      "metadata": {
        "colab": {
          "base_uri": "https://localhost:8080/"
        },
        "id": "k6Y8pBEGjrsR",
        "outputId": "a99c4186-2e90-4d79-dd23-8771232df0a3"
      },
      "source": [
        "if a == 'M':\n",
        "  print('Bom dia')\n",
        "elif a == 'V':\n",
        "  print('Boa tarde')\n",
        "elif a == 'M':\n",
        "  print('Boa noite')"
      ],
      "execution_count": 74,
      "outputs": [
        {
          "output_type": "stream",
          "name": "stdout",
          "text": [
            "Boa tarde\n"
          ]
        }
      ]
    },
    {
      "cell_type": "markdown",
      "metadata": {
        "id": "MandZrYwj9E-"
      },
      "source": [
        "#**11 - As Organizações Tabajara resolveram dar um aumento de salário aos seus colaboradores e lhe contraram para desenvolver o programa que calculará os reajustes.**\n",
        "Faça um programa que recebe o salário de um colaborador e o reajuste segundo o seguinte critério, baseado no salário atual:\n",
        "salários até R$ 280,00 (incluindo) : aumento de 20%\n",
        "salários entre R$ 280,00 e R$ 700,00 : aumento de 15%\n",
        "salários entre R$ 700,00 e R$ 1500,00 : aumento de 10%\n",
        "salários de R$ 1500,00 em diante : aumento de 5% Após o aumento ser realizado, informe na tela:\n",
        "- o salário antes do reajuste;\n",
        "- o percentual de aumento aplicado;\n",
        "- o valor do aumento;\n",
        "- o novo salário, após o aumento."
      ]
    },
    {
      "cell_type": "code",
      "metadata": {
        "colab": {
          "base_uri": "https://localhost:8080/"
        },
        "id": "t2aBuQW1kEzu",
        "outputId": "08d4c971-61f1-4122-c8ab-7a106e954e1e"
      },
      "source": [
        "nome = input('Informe o nome do funcionário: ')\n",
        "nome = nome.capitalize()"
      ],
      "execution_count": 75,
      "outputs": [
        {
          "name": "stdout",
          "output_type": "stream",
          "text": [
            "Informe o nome do funcionário: Italo\n"
          ]
        }
      ]
    },
    {
      "cell_type": "code",
      "metadata": {
        "colab": {
          "base_uri": "https://localhost:8080/"
        },
        "id": "sH3Ur-n9kglH",
        "outputId": "5de2705f-0cab-429c-94a4-b555de7e5924"
      },
      "source": [
        "salario = float(input(\"Informe o salário do funcionário: R$ \"))"
      ],
      "execution_count": 89,
      "outputs": [
        {
          "name": "stdout",
          "output_type": "stream",
          "text": [
            "Informe o salário do funcionário: R$ 1700\n"
          ]
        }
      ]
    },
    {
      "cell_type": "code",
      "metadata": {
        "id": "nuOgIB0VkrXG"
      },
      "source": [
        "if salario < 280.00: \n",
        "  aumento = (salario * 0.2)\n",
        "  percentual = '20%'\n",
        "elif salario >= 280.00 and salario < 700.00:\n",
        "  aumento = (salario * 0.15) \n",
        "  percentual = '15%'\n",
        "elif salario >= 700.00 and salario < 1500.00:\n",
        "  aumento = (salario * 0.1)\n",
        "  percentual = '10%'\n",
        "elif salario >= 1500:\n",
        "  aumento = (salario * 0.05)\n",
        "  percentual = '5%'"
      ],
      "execution_count": 90,
      "outputs": []
    },
    {
      "cell_type": "code",
      "metadata": {
        "id": "rWSOSw4_to1y"
      },
      "source": [
        "novosalario = salario+aumento"
      ],
      "execution_count": 91,
      "outputs": []
    },
    {
      "cell_type": "code",
      "metadata": {
        "colab": {
          "base_uri": "https://localhost:8080/"
        },
        "id": "03BjAfH9syH0",
        "outputId": "8a2c00c7-d922-4dca-fe7c-7d17d0e67eb7"
      },
      "source": [
        "print('Nome: ' + nome)\n",
        "print(f'Salário antes do reajuste: R$ {salario}' )\n",
        "print('Percentual: ' + percentual)\n",
        "print(f'valor do aumento: R$ {aumento}')\n",
        "print(f'Novo salário: R$ {novosalario}')"
      ],
      "execution_count": 92,
      "outputs": [
        {
          "output_type": "stream",
          "name": "stdout",
          "text": [
            "Nome: Italo\n",
            "Salário antes do reajuste: R$ 1700.0\n",
            "Percentual: 5%\n",
            "valor do aumento: R$ 85.0\n",
            "Novo salário: R$ 1785.0\n"
          ]
        }
      ]
    },
    {
      "cell_type": "markdown",
      "metadata": {
        "id": "80n282za1bPJ"
      },
      "source": [
        "#**12 - Faça um programa para o cálculo de uma folha de pagamento, sabendo que os descontos são do Imposto de Renda, que depende do salário bruto (conforme tabela abaixo) e 3% para o Sindicato e que o FGTS corresponde a 11% do Salário Bruto, mas não é descontado (é a empresa que deposita). O Salário Líquido corresponde ao Salário Bruto menos os descontos. O programa deverá pedir ao usuário o valor da sua hora e a quantidade de horas trabalhadas no mês.**\n",
        "Desconto do IR:\n",
        "- Salário Bruto até 900 (inclusive) - isento\n",
        "- Salário Bruto até 1500 (inclusive) - desconto de 5%\n",
        "- Salário Bruto até 2500 (inclusive) - desconto de 10%\n",
        "- Salário Bruto acima de 2500 - desconto de 20% Imprima na tela as informações, dispostas conforme o exemplo abaixo. No exemplo o valor da hora é 5 e a quantidade de hora é 220 "
      ]
    },
    {
      "cell_type": "code",
      "metadata": {
        "id": "hAv_nBwJ6zTD"
      },
      "source": [
        "import random"
      ],
      "execution_count": 103,
      "outputs": []
    },
    {
      "cell_type": "code",
      "metadata": {
        "colab": {
          "base_uri": "https://localhost:8080/"
        },
        "id": "X4ZgLyU11qt5",
        "outputId": "bd30bfe5-a5ca-4ed6-b436-2415a75c22fc"
      },
      "source": [
        "nome = input('Informe o seu nome: ')\n",
        "matricula = random.randint(1,1000000)\n",
        "valor_hora = float(input('Informe quanto você recebe por hora: R$ '))\n",
        "hora_trabalhada = float(input('Informe quantas horas você trabalhou esse mês: '))"
      ],
      "execution_count": 104,
      "outputs": [
        {
          "name": "stdout",
          "output_type": "stream",
          "text": [
            "Informe o seu nome: Italo\n",
            "Informe quanto você recebe por hora: R$ 5\n",
            "Informe quantas horas você trabalhou esse mês: 220\n"
          ]
        }
      ]
    },
    {
      "cell_type": "code",
      "metadata": {
        "id": "tJYaEtTv18Yw"
      },
      "source": [
        "salario_bruto = valor_hora * hora_trabalhada"
      ],
      "execution_count": 105,
      "outputs": []
    },
    {
      "cell_type": "code",
      "metadata": {
        "id": "wp-pM4bq2EfB"
      },
      "source": [
        "if salario_bruto < 900:\n",
        "  ir = 0\n",
        "  inss = salario_bruto * 0.1\n",
        "  fgts = salario_bruto * 0.11\n",
        "  total_desconto = inss\n",
        "  salario_liquido = salario_bruto - total_desconto\n",
        "\n",
        "elif salario_bruto > 900 and salario_bruto <= 1500:\n",
        "  ir = salario_bruto * 0.05\n",
        "  inss = salario_bruto * 0.1\n",
        "  fgts = salario_bruto * 0.11\n",
        "  total_desconto = ir + inss\n",
        "  salario_liquido = salario_bruto - total_desconto\n",
        "\n",
        "elif salario_bruto > 1500 and salario_bruto <= 2500:\n",
        "  ir = salario_bruto * 0.01\n",
        "  inss = salario_bruto * 0.1\n",
        "  fgts = salario_bruto * 0.11\n",
        "  total_desconto = ir + inss\n",
        "  salario_liquido = salario_bruto - total_desconto\n",
        "\n",
        "elif salario_bruto > 2500:\n",
        "  ir = salario_bruto * 0.2\n",
        "  inss = salario_bruto * 0.1\n",
        "  fgts = salario_bruto * 0.11\n",
        "  total_desconto = ir + inss\n",
        "  salario_liquido = salario_bruto - total_desconto\n",
        "\n",
        "  "
      ],
      "execution_count": 106,
      "outputs": []
    },
    {
      "cell_type": "code",
      "metadata": {
        "colab": {
          "base_uri": "https://localhost:8080/"
        },
        "id": "psOJakVE57cd",
        "outputId": "2197d7a6-01da-4f5d-957f-1125201e3b85"
      },
      "source": [
        "print('Nome: ' + nome)\n",
        "print(f'Matricula: {matricula}')\n",
        "print(f'Imposto de Renda: R$ {ir}')\n",
        "print(f'INSS: R$ {inss}')\n",
        "print(f'FGTS: R$ {fgts}' )\n",
        "print(f'Total Descontos: R${total_desconto}')\n",
        "print(f'Salário Liquido: R${salario_liquido}')"
      ],
      "execution_count": 107,
      "outputs": [
        {
          "output_type": "stream",
          "name": "stdout",
          "text": [
            "Nome: Italo\n",
            "Matricula: 712785\n",
            "Imposto de Renda: R$ 55.0\n",
            "INSS: R$ 110.0\n",
            "FGTS: R$ 121.0\n",
            "Total Descontos: R$165.0\n",
            "Salário Liquido: R$935.0\n"
          ]
        }
      ]
    },
    {
      "cell_type": "markdown",
      "metadata": {
        "id": "E2k6sOXu8Bnt"
      },
      "source": [
        "#**13 - Faça um Programa que leia um número e exiba o dia correspondente da semana. (1-Domingo, 2- Segunda, etc.), se digitar outro valor deve aparecer valor inválido.**"
      ]
    },
    {
      "cell_type": "code",
      "metadata": {
        "colab": {
          "base_uri": "https://localhost:8080/"
        },
        "id": "Kj8fbs7a8Ivu",
        "outputId": "50c96a9c-1f98-4900-8932-5518c83c7797"
      },
      "source": [
        "a = float(input('Informe o dia da semana (1-Domingo, 2- Segunda, etc.) '))"
      ],
      "execution_count": 110,
      "outputs": [
        {
          "name": "stdout",
          "output_type": "stream",
          "text": [
            "Informe o dia da semana (1-Domingo, 2- Segunda, etc.) 7\n"
          ]
        }
      ]
    },
    {
      "cell_type": "code",
      "metadata": {
        "colab": {
          "base_uri": "https://localhost:8080/"
        },
        "id": "4-axC8QM9k7g",
        "outputId": "425b4d04-188b-419b-89e7-c9890c716dbd"
      },
      "source": [
        "if a == 1:\n",
        "  print('Domingo')\n",
        "elif a == 2:\n",
        "  print('Segunda')\n",
        "elif a == 3:\n",
        "  print('Terça')\n",
        "elif a == 4:\n",
        "  print('Quarta')\n",
        "elif a == 5:\n",
        "  print('Quinta')\n",
        "elif a == 6:\n",
        "  print('Sexta')\n",
        "elif a == 7:\n",
        "  print('Sábado')"
      ],
      "execution_count": 111,
      "outputs": [
        {
          "output_type": "stream",
          "name": "stdout",
          "text": [
            "Sábado\n"
          ]
        }
      ]
    },
    {
      "cell_type": "markdown",
      "metadata": {
        "id": "PooJATiU-TY_"
      },
      "source": [
        "#**14 - Faça um programa que lê as duas notas parciais obtidas por um aluno numa disciplina ao longo de um semestre, e calcule a sua média. A atribuição de conceitos obedece à tabela abaixo:**\n"
      ]
    },
    {
      "cell_type": "markdown",
      "metadata": {
        "id": "bXar14ev-enf"
      },
      "source": [
        "\n",
        "\n",
        "```\n",
        "Média de Aproveitamento Conceito\n",
        "  Entre 9.0 e 10.0        A\n",
        "  Entre 7.5 e 9.0         B\n",
        "  Entre 6.0 e 7.5         C\n",
        "  Entre 4.0 e 6.0         D\n",
        "  Entre 4.0 e zero        E\n",
        "\n",
        "\n",
        "\n",
        "\n"
      ]
    },
    {
      "cell_type": "code",
      "metadata": {
        "id": "SNcnAeTW-vHI"
      },
      "source": [
        ""
      ],
      "execution_count": null,
      "outputs": []
    }
  ]
}
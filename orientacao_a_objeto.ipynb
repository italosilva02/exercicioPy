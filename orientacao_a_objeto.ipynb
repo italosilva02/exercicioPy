{
  "nbformat": 4,
  "nbformat_minor": 0,
  "metadata": {
    "colab": {
      "name": "orientacao_a_objeto.ipynb",
      "provenance": [],
      "authorship_tag": "ABX9TyNCeinl6sl9QPMa9x5zPm0+",
      "include_colab_link": true
    },
    "kernelspec": {
      "name": "python3",
      "display_name": "Python 3"
    },
    "language_info": {
      "name": "python"
    }
  },
  "cells": [
    {
      "cell_type": "markdown",
      "metadata": {
        "id": "view-in-github",
        "colab_type": "text"
      },
      "source": [
        "<a href=\"https://colab.research.google.com/github/italosilva02/exercicioPy/blob/main/orientacao_a_objeto.ipynb\" target=\"_parent\"><img src=\"https://colab.research.google.com/assets/colab-badge.svg\" alt=\"Open In Colab\"/></a>"
      ]
    },
    {
      "cell_type": "code",
      "metadata": {
        "id": "H4jkCDHbaETN"
      },
      "source": [
        "class triangulo:\n",
        "  def __init__(self, lado1, lado2, lado3, base, altura):\n",
        "    self.lado1 = lado1\n",
        "    self.lado2 = lado2\n",
        "    self.lado3 = lado3"
      ],
      "execution_count": 7,
      "outputs": []
    },
    {
      "cell_type": "code",
      "metadata": {
        "id": "m2_fRPvcamNT"
      },
      "source": [
        "t1 = triangulo(2, 1, 3, 4, 3)"
      ],
      "execution_count": 8,
      "outputs": []
    },
    {
      "cell_type": "code",
      "metadata": {
        "colab": {
          "base_uri": "https://localhost:8080/"
        },
        "id": "c8ORBPFwbAyS",
        "outputId": "9da95b9a-3fa9-46af-ed1f-7ad53a8fe889"
      },
      "source": [
        "print(t1.lado1, t1.lado2, t1.lado3)"
      ],
      "execution_count": 9,
      "outputs": [
        {
          "output_type": "stream",
          "name": "stdout",
          "text": [
            "2 1 3\n"
          ]
        }
      ]
    },
    {
      "cell_type": "code",
      "metadata": {
        "id": "IJx-3-JLbJuy"
      },
      "source": [
        "t2 = triangulo(2,4,3,8,5)"
      ],
      "execution_count": 10,
      "outputs": []
    },
    {
      "cell_type": "code",
      "metadata": {
        "id": "XeDfAWqpbP5y"
      },
      "source": [
        "print(t2.lado1, t2.lado2, t3.lado3)"
      ],
      "execution_count": null,
      "outputs": []
    }
  ]
}